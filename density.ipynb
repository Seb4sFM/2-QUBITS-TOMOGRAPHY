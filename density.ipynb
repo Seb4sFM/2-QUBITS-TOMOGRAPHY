{
 "cells": [
  {
   "cell_type": "code",
   "execution_count": 1,
   "id": "0e601518-6cd5-4f38-868e-d660beec1f08",
   "metadata": {},
   "outputs": [],
   "source": [
    "import numpy as np\n",
    "import matplotlib.pyplot as plt"
   ]
  },
  {
   "cell_type": "code",
   "execution_count": 2,
   "id": "06cbb2cc-5741-44f1-95a8-6bf97ea5e61a",
   "metadata": {},
   "outputs": [],
   "source": [
    "#Pauli matrices\n",
    "s0 = np.matrix([[1,0],[0,1]])\n",
    "s1 = np.matrix([[0,1],[1,0]])\n",
    "s2 = np.matrix([[0,-1.j],[1.j,0]])\n",
    "s3 = np.matrix([[1,0],[0,-1]])\n",
    "\n",
    "s = np.array([s0,s3,s1,s2])"
   ]
  },
  {
   "cell_type": "code",
   "execution_count": 3,
   "id": "90f19043-fb33-42d1-9a03-2e7b7edc16dd",
   "metadata": {},
   "outputs": [],
   "source": [
    "#Gamma matrices\n",
    "gamma_m = []\n",
    "del gamma_m\n",
    "gamma_m = []\n",
    "for i in range(4):\n",
    "    for j in range(4):\n",
    "        cross_t = np.kron(s[i],s[j])\n",
    "        gamma_m.append(cross_t)\n",
    "gamma_m = 0.5*np.array(gamma_m)"
   ]
  },
  {
   "cell_type": "code",
   "execution_count": 4,
   "id": "4257990e-914a-47be-8bf4-06bf160657e5",
   "metadata": {},
   "outputs": [
    {
     "name": "stdout",
     "output_type": "stream",
     "text": [
      "(6, 2, 1)\n"
     ]
    }
   ],
   "source": [
    "# Espacio de Hilbert de polarizacines de 1 qubit en la base HV\n",
    "\n",
    "# KETS\n",
    "H = np.array([[1],[0]])\n",
    "V = np.array([[0],[1]])\n",
    "\n",
    "# Mutually unbiased basis respect to HV con las definiciones del paper de POLARIMETRY\n",
    "D = 1./np.sqrt(2)*(H + V)\n",
    "A = 1./np.sqrt(2)*(H - V)\n",
    "L = 1./np.sqrt(2)*(H + 1.j*V)\n",
    "R = 1./np.sqrt(2)*(H - 1.j*V)\n",
    "\n",
    "# ARRAY DE ESTADOS\n",
    "BASIS_Q1 = np.array([H,V,D,A,L,R]) #h6 V12 D18 A24 L30 R36\n",
    "print(BASIS_Q1.shape)"
   ]
  },
  {
   "cell_type": "code",
   "execution_count": 5,
   "id": "a014f9aa-75b0-41bb-b85b-e311d5593bac",
   "metadata": {},
   "outputs": [],
   "source": [
    "#Espacio de Hilbert de polarizacion de 2 qubits:q1 y q2 en las bases H1,V1,H2,V2\n",
    "\n",
    "\"Primera letra es del qubit 1\" \n",
    "\n",
    "# BASES DE LOS KETS PARA ESTADOS BIPARTITOS\n",
    "\n",
    "BASIS_Q2 = [\"HH\",\"HV\",\"HD\",\"HA\",\"HL\",\"HR\"]\n",
    "orden2= [1,2,8,7,31,32,14,13,18,15,33,3,9,11,5,35]\n",
    "ord2 = np.array(orden2)-1\n",
    "BASIS_Q2J_s = [\"HH\",\"HV\",\"VV\",\"VH\",\"RH\",\"RV\",\"DV\",\"DH\",\"DR\",\"DD\",\"RD\",\"HD\",\"VD\",\"VL\",\"HL\",\"RL\"]"
   ]
  },
  {
   "cell_type": "code",
   "execution_count": 6,
   "id": "186436c6-e41f-4f7f-8e74-cd786ede2585",
   "metadata": {},
   "outputs": [],
   "source": [
    "#del BASIS_Q2J_kets\n",
    "BASIS_Q2j_kets = []\n",
    "for i in range(6):\n",
    "    for j in range(6):\n",
    "        cross_t = np.kron(BASIS_Q1[i],BASIS_Q1[j])\n",
    "        BASIS_Q2j_kets.append(cross_t)"
   ]
  },
  {
   "cell_type": "code",
   "execution_count": 7,
   "id": "0e8f3288-6ccf-4cd2-9b3d-6f8cc0ced0d0",
   "metadata": {},
   "outputs": [],
   "source": [
    "BASIS_Q2J_s = [\"HH\",\"HV\",\"VV\",\"VH\",\"RH\",\"RV\",\"DV\",\"DH\",\"DR\",\"DD\",\"RD\",\"HD\",\"VD\",\"VL\",\"HL\",\"RL\"]\n",
    "BASIS_Q2_kets = [BASIS_Q2j_kets[k] for k in ord2]\n",
    "#BASIS_Q2_kets = [BASIS_Q2j_kets[k] for k in range(0,33,2)]"
   ]
  },
  {
   "cell_type": "code",
   "execution_count": 8,
   "id": "144291b9-76fb-43e6-87c5-daa7a8af1594",
   "metadata": {},
   "outputs": [
    {
     "data": {
      "text/plain": [
       "array([[0.5+0.j, 0. +0.j, 0. +0.j, 0. +0.j],\n",
       "       [0. +0.j, 0.5+0.j, 0. +0.j, 0. +0.j],\n",
       "       [0. +0.j, 0. +0.j, 0.5+0.j, 0. +0.j],\n",
       "       [0. +0.j, 0. +0.j, 0. +0.j, 0.5+0.j]])"
      ]
     },
     "execution_count": 8,
     "metadata": {},
     "output_type": "execute_result"
    }
   ],
   "source": [
    "gamma_m[0]"
   ]
  },
  {
   "cell_type": "code",
   "execution_count": 9,
   "id": "b7e9d740-d8ea-4c0b-8a18-1adb7418ed32",
   "metadata": {},
   "outputs": [],
   "source": [
    "#B matrices\n",
    "Bmm = []\n",
    "for i in range(16):\n",
    "    for j in range(16):\n",
    "        m2 = np.matmul(np.conjugate(BASIS_Q2_kets[i]).T,np.matmul(gamma_m[j],BASIS_Q2_kets[i]))\n",
    "        Bmm.append(m2)\n",
    "Bm = np.array(Bmm).reshape(16,16)"
   ]
  },
  {
   "cell_type": "code",
   "execution_count": 10,
   "id": "dbad4b7e-7786-4490-b730-950d314ecd05",
   "metadata": {},
   "outputs": [],
   "source": [
    "#Inverse B\n",
    "In_Bm = np.linalg.inv(Bm)"
   ]
  },
  {
   "cell_type": "code",
   "execution_count": 11,
   "id": "94f00f09-9339-414c-8b37-d0658e095f3b",
   "metadata": {},
   "outputs": [],
   "source": [
    "np.set_printoptions(linewidth=200,precision=6,suppress=False)"
   ]
  },
  {
   "cell_type": "code",
   "execution_count": 12,
   "id": "74d97b2b-1822-4712-b3d9-ecbff8e5398f",
   "metadata": {},
   "outputs": [],
   "source": [
    "# M matrices\n",
    "\n",
    "M_m =[]\n",
    "for i in range(16):\n",
    "    M_mas = np.zeros((4,4))\n",
    "    for k in range(16):\n",
    "        M_mas = M_mas + In_Bm[k,i]*gamma_m[k]\n",
    "    M_m.append(M_mas)\n",
    "M_m = np.array(M_m)"
   ]
  },
  {
   "cell_type": "code",
   "execution_count": 13,
   "id": "986cdcdf-15b4-40b8-aa23-fe65b7a5037e",
   "metadata": {},
   "outputs": [
    {
     "name": "stdout",
     "output_type": "stream",
     "text": [
      "[[ 0.487213+0.j       -0.004185+0.01142j  -0.009752-0.017842j  0.519209+0.038025j]\n",
      " [-0.004185-0.01142j   0.004543+0.j        0.02713 -0.014596j -0.064826-0.00762j ]\n",
      " [-0.009752+0.017842j  0.02713 +0.014596j  0.006225+0.j       -0.069453+0.013383j]\n",
      " [ 0.519209-0.038025j -0.064826+0.00762j  -0.069453-0.013383j  0.502019+0.j      ]]\n"
     ]
    }
   ],
   "source": [
    "#James Paper\n",
    "\n",
    "data_j = np.array([34749,324,35805,444,16324,17521,13441,16901,17932,32028,15132,17238,13171,17170,16722,33586])\n",
    "Normal= np.sum([data_j[0:4]])\n",
    "\n",
    "densid_jm = np.sum(M_m*data_j.reshape(16,1,1),axis=0)/Normal\n",
    "np.set_printoptions(linewidth=200)\n",
    "print(densid_jm)"
   ]
  },
  {
   "cell_type": "code",
   "execution_count": 83,
   "id": "85f23d02-91af-47cd-88bd-d3698a302ebd",
   "metadata": {},
   "outputs": [],
   "source": [
    "from mpl_toolkits.mplot3d import Axes3D\n",
    "import matplotlib.pyplot as plt\n",
    "import matplotlib.colors \n",
    "import matplotlib.ticker as ticker\n",
    "import numpy as np\n",
    "\n",
    "\n",
    "%matplotlib qt\n",
    "\n",
    "fig = plt.figure(figsize=(20,20))\n",
    "ax = fig.add_subplot(111, projection= Axes3D.name)\n",
    "\n",
    "def make_bar(ax, x0=0, y0=0, width = 0.5, height=1 , cmap=\"jet\",  \n",
    "              norm=matplotlib.colors.Normalize(vmin=-0.5, vmax=0.5), **kwargs ):\n",
    "    # Make data\n",
    "    u = np.linspace(0, 2*np.pi, 4+1)+np.pi/4.\n",
    "    v_ = np.linspace(np.pi/4., 3./4*np.pi, 100)\n",
    "    v = np.linspace(0, np.pi, len(v_)+2 )\n",
    "    v[0] = 0 ;  v[-1] = np.pi; v[1:-1] = v_\n",
    "    x = np.outer(np.cos(u), np.sin(v))\n",
    "    y = np.outer(np.sin(u), np.sin(v))\n",
    "    z = np.outer(np.ones(np.size(u)), np.cos(v))\n",
    "\n",
    "    xthr = np.sin(np.pi/4.)**2 ;  zthr = np.sin(np.pi/4.)\n",
    "    x[x > xthr] = xthr; x[x < -xthr] = -xthr\n",
    "    y[y > xthr] = xthr; y[y < -xthr] = -xthr\n",
    "    z[z > zthr] = zthr  ; z[z < -zthr] = -zthr\n",
    "\n",
    "    x *= 1./xthr*width; y *= 1./xthr*width\n",
    "    z += zthr\n",
    "    z *= height/(2.*zthr)\n",
    "    #translate\n",
    "    x += x0; y += y0\n",
    "    #plot\n",
    "    ax.plot_surface(x, y, z, cmap=cmap, norm=norm, **kwargs)\n",
    "\n",
    "def make_bars(ax, x, y, height, width=1):\n",
    "    widths = np.array(width)*np.ones_like(x)\n",
    "    x = np.array(x).flatten()\n",
    "    y = np.array(y).flatten()\n",
    "\n",
    "    h = np.array(height).flatten()\n",
    "    w = np.array(widths).flatten()\n",
    "    norm = matplotlib.colors.Normalize(vmin=-0.5, vmax=0.5)\n",
    "    for i in range(len(x.flatten())):\n",
    "        make_bar(ax, x0=x[i], y0=y[i], width = w[i] , height=h[i], norm=norm)\n",
    "\n",
    "\n",
    "X, Y = np.meshgrid([1,2,3,4],[1,2,3,4], indexing='ij')\n",
    "Z = np.imag(p_MLE).flatten()\n",
    "\n",
    "make_bars(ax, X,Y,Z, width=0.29, )\n",
    "\n",
    "ax.set_xticks([1,2,3,4])\n",
    "ax.set_yticks([1,2,3,4])\n",
    "ax.set_xticklabels(['|HH⟩','|HV⟩','|VH⟩','|VV⟩'])\n",
    "ax.set_yticklabels(['|HH⟩','|HV⟩','|VH⟩','|VV⟩'])\n",
    "ax.set_zticks(np.arange(-0.2,0.52,0.1))\n",
    "ax.view_init(elev=41, azim=-47) # Changes the elevation and azimuth\n",
    "ax.tick_params(axis='x', labelsize=15)\n",
    "ax.tick_params(axis='y', labelsize=15)\n",
    "ax.tick_params(axis='z', labelsize=15)\n",
    "\n",
    "def myfmt(x, pos):\n",
    "    return '{0:.3f}'.format(x)\n",
    "\n",
    "colourMap = plt.cm.ScalarMappable(cmap=plt.cm.jet)\n",
    "colourMap.set_array([-0.5,0.5])\n",
    "colBar = plt.colorbar(colourMap,format='%.3f')\n",
    "\n",
    "ax.grid()\n",
    "plt.show()"
   ]
  },
  {
   "cell_type": "code",
   "execution_count": 79,
   "id": "7d695b31-64de-45a9-a53d-97001c13b2b7",
   "metadata": {},
   "outputs": [
    {
     "ename": "NameError",
     "evalue": "name 'x' is not defined",
     "output_type": "error",
     "traceback": [
      "\u001b[1;31m---------------------------------------------------------------------------\u001b[0m",
      "\u001b[1;31mNameError\u001b[0m                                 Traceback (most recent call last)",
      "\u001b[1;32m~\\AppData\\Local\\Temp/ipykernel_20944/1657712775.py\u001b[0m in \u001b[0;36m<module>\u001b[1;34m\u001b[0m\n\u001b[0;32m     39\u001b[0m \u001b[1;33m\u001b[0m\u001b[0m\n\u001b[0;32m     40\u001b[0m \u001b[0max\u001b[0m \u001b[1;33m=\u001b[0m \u001b[0maxes\u001b[0m\u001b[1;33m[\u001b[0m\u001b[1;36m0\u001b[0m\u001b[1;33m,\u001b[0m\u001b[1;36m0\u001b[0m\u001b[1;33m]\u001b[0m\u001b[1;33m\u001b[0m\u001b[1;33m\u001b[0m\u001b[0m\n\u001b[1;32m---> 41\u001b[1;33m \u001b[0max\u001b[0m\u001b[1;33m.\u001b[0m\u001b[0mplot\u001b[0m\u001b[1;33m(\u001b[0m\u001b[0mx\u001b[0m\u001b[1;33m,\u001b[0m \u001b[0my\u001b[0m\u001b[1;33m,\u001b[0m \u001b[1;34m'o--'\u001b[0m\u001b[1;33m)\u001b[0m\u001b[1;33m\u001b[0m\u001b[1;33m\u001b[0m\u001b[0m\n\u001b[0m\u001b[0;32m     42\u001b[0m \u001b[0max\u001b[0m\u001b[1;33m.\u001b[0m\u001b[0mset_xlabel\u001b[0m\u001b[1;33m(\u001b[0m\u001b[1;34m'time'\u001b[0m\u001b[1;33m)\u001b[0m\u001b[1;33m\u001b[0m\u001b[1;33m\u001b[0m\u001b[0m\n\u001b[0;32m     43\u001b[0m \u001b[0max\u001b[0m\u001b[1;33m.\u001b[0m\u001b[0mset_ylabel\u001b[0m\u001b[1;33m(\u001b[0m\u001b[1;34m'amplitude'\u001b[0m\u001b[1;33m)\u001b[0m\u001b[1;33m\u001b[0m\u001b[1;33m\u001b[0m\u001b[0m\n",
      "\u001b[1;31mNameError\u001b[0m: name 'x' is not defined"
     ]
    },
    {
     "data": {
      "image/png": "[encoded data removed]",
      "text/plain": [
       "<Figure size 1440x576 with 6 Axes>"
      ]
     },
     "metadata": {
      "needs_background": "light"
     },
     "output_type": "display_data"
    }
   ],
   "source": [
    "fig, axes = plt.subplots(2, 3, figsize=(20, 8)) \n",
    "plt.subplots_adjust(wspace=0.3, hspace=0.4)\n",
    "\n",
    "\n",
    "def make_bar(ax, x0=0, y0=0, width = 0.5, height=1 , cmap=\"cividis\",  \n",
    "              norm=matplotlib.colors.Normalize(vmin=-0.5, vmax=0.5), **kwargs ):\n",
    "    # Make data\n",
    "    u = np.linspace(0, 2*np.pi, 4+1)+np.pi/4.\n",
    "    v_ = np.linspace(np.pi/4., 3./4*np.pi, 100)\n",
    "    v = np.linspace(0, np.pi, len(v_)+2 )\n",
    "    v[0] = 0 ;  v[-1] = np.pi; v[1:-1] = v_\n",
    "    x = np.outer(np.cos(u), np.sin(v))\n",
    "    y = np.outer(np.sin(u), np.sin(v))\n",
    "    z = np.outer(np.ones(np.size(u)), np.cos(v))\n",
    "\n",
    "    xthr = np.sin(np.pi/4.)**2 ;  zthr = np.sin(np.pi/4.)\n",
    "    x[x > xthr] = xthr; x[x < -xthr] = -xthr\n",
    "    y[y > xthr] = xthr; y[y < -xthr] = -xthr\n",
    "    z[z > zthr] = zthr  ; z[z < -zthr] = -zthr\n",
    "\n",
    "    x *= 1./xthr*width; y *= 1./xthr*width\n",
    "    z += zthr\n",
    "    z *= height/(2.*zthr)\n",
    "    #translate\n",
    "    x += x0; y += y0\n",
    "    #plot\n",
    "    ax.plot_surface(x, y, z, cmap=cmap, norm=norm, **kwargs)\n",
    "\n",
    "def make_bars(ax, x, y, height, width=1):\n",
    "    widths = np.array(width)*np.ones_like(x)\n",
    "    x = np.array(x).flatten()\n",
    "    y = np.array(y).flatten()\n",
    "\n",
    "    h = np.array(height).flatten()\n",
    "    w = np.array(widths).flatten()\n",
    "    norm = matplotlib.colors.Normalize(vmin=-0.5, vmax=0.5)\n",
    "    for i in range(len(x.flatten())):\n",
    "        make_bar(ax, x0=x[i], y0=y[i], width = w[i] , height=h[i], norm=norm)\n",
    "        \n",
    "ax = axes[0,0]\n",
    "ax.plot(x, y, 'o--')\n",
    "ax.set_xlabel('time')\n",
    "ax.set_ylabel('amplitude')\n",
    "ax.set_title('sin function')\n",
    "ax.grid()\n",
    "\n",
    "ax = axes[0,2]\n",
    "ax.plot(x, y, 'mo--', label='series 1')\n",
    "ax.set_xlabel('time')\n",
    "ax.set_ylabel('amplitude')\n",
    "ax.tick_params(axis='x', labelsize=6)\n",
    "ax.legend()\n",
    "ax.grid()\n",
    "\n",
    "ax = axes[1,1]\n",
    "ax.plot(x, y, 'o--', label='series 1')\n",
    "ax.text(6, 0.4, 'sin function')\n",
    "ax.set_xlabel('time')\n",
    "ax.set_ylabel('amplitude')\n",
    "ax.legend(loc='upper right')\n",
    "ax.grid()\n",
    "\n",
    "ax = axes[1,2]\n",
    "ax.plot(x, y, 'o--', label='series 1')\n",
    "ax.text(0.5, 0.5, '${mean}_{y}$ = %0.2f' % np.mean(y), bbox = {'edgecolor':'red', 'facecolor':'white'}, \n",
    "        fontsize=14, transform=ax.transAxes, ha='center') # transform=ax.transAxes: scaled coords\n",
    "ax.set_title('sin function')\n",
    "ax.set_xlabel('time')\n",
    "ax.set_ylabel('amplitude')\n",
    "ax.legend(loc='upper right', edgecolor='red')\n",
    "ax.grid()\n",
    "\n",
    "fig.text(0.5, -0.005, 'Different views of sin function', fontsize=20, ha='center') # transform=ax.transAxes: scaled coords\n",
    "plt.show()"
   ]
  },
  {
   "cell_type": "code",
   "execution_count": 14,
   "id": "d76288ad-84ae-41cb-8fb4-584efd3d2d11",
   "metadata": {},
   "outputs": [
    {
     "name": "stdout",
     "output_type": "stream",
     "text": [
      "The angle is $2\\pi$ radians\n"
     ]
    }
   ],
   "source": [
    "print(\"The angle is $2\\pi$ radians\")"
   ]
  },
  {
   "cell_type": "code",
   "execution_count": 15,
   "id": "3af93516-eb01-42c4-93c6-51806f96b763",
   "metadata": {},
   "outputs": [
    {
     "name": "stdout",
     "output_type": "stream",
     "text": [
      "The function r$f(x) = \f",
      "rac{17}{x-4}$ has a discontinuity at $x = 4$.\n"
     ]
    }
   ],
   "source": [
    "print(\"The function r$f(x) = \\frac{17}{x-4}$ has a discontinuity at $x = 4$.\")"
   ]
  },
  {
   "cell_type": "code",
   "execution_count": 23,
   "id": "95e191bb-15eb-4f18-8149-2b112a10098c",
   "metadata": {},
   "outputs": [],
   "source": [
    "#Importing data\n",
    "\n",
    "HH_i=np.mean(np.loadtxt('HH.lvm'))\n",
    "HV_i=np.mean(np.loadtxt('HV.lvm'))\n",
    "HD_i=np.mean(np.loadtxt('HD.lvm'))\n",
    "HL_i=np.mean(np.loadtxt('HL.lvm'))\n",
    "VV_i=np.mean(np.loadtxt('VV.lvm'))\n",
    "VH_i=np.mean(np.loadtxt('VH.lvm'))\n",
    "VD_i=np.mean(np.loadtxt('VD.lvm'))\n",
    "VL_i=np.mean(np.loadtxt('VL.lvm'))\n",
    "DV_i=np.mean(np.loadtxt('DV.lvm'))\n",
    "DH_i=np.mean(np.loadtxt('DH.lvm'))\n",
    "DR_i=np.mean(np.loadtxt('DR.lvm'))\n",
    "DD_i=np.mean(np.loadtxt('DD.lvm'))\n",
    "RH_i=np.mean(np.loadtxt('RH.lvm'))\n",
    "RV_i=np.mean(np.loadtxt('RV.lvm'))\n",
    "RD_i=np.mean(np.loadtxt('RD.lvm'))\n",
    "RL_i=np.mean(np.loadtxt('RL.lvm'))"
   ]
  },
  {
   "cell_type": "code",
   "execution_count": 24,
   "id": "05448727-1aa4-498d-a634-a6f0275a77a9",
   "metadata": {},
   "outputs": [
    {
     "name": "stdout",
     "output_type": "stream",
     "text": [
      "218.88888888888889\n"
     ]
    }
   ],
   "source": [
    "print(DD_i)"
   ]
  },
  {
   "cell_type": "code",
   "execution_count": 25,
   "id": "ce3949b0-b0bb-4137-8e14-0429a1a4e697",
   "metadata": {},
   "outputs": [],
   "source": [
    "# Datos experimentales\n",
    "\n",
    "#datos = [161.783, 130., 22.0208, 114.095, 58.4091, 157.083, 120.87, 126.167, 26.7692, 51.8, 180.5, 74.0333, 121.167, 133.545, 118.733, 212.85]"
   ]
  },
  {
   "cell_type": "code",
   "execution_count": 26,
   "id": "3b7015bd-618b-41e4-9f0a-5048dd3b0f0f",
   "metadata": {},
   "outputs": [],
   "source": [
    "#datos_finales=[datos[0],datos[2],datos[10],datos[8],datos[12],datos[14],datos[6],datos[4],datos[7],datos[5],datos[13],datos[1],datos[9],datos[11],datos[3],datos[15]]"
   ]
  },
  {
   "cell_type": "code",
   "execution_count": 27,
   "id": "81cdb141-8c2f-4604-ae13-df4986455235",
   "metadata": {},
   "outputs": [],
   "source": [
    "datos_finales = [HH_i,HV_i,VV_i,VH_i,RH_i,RV_i,DV_i,DH_i,DR_i,DD_i,RD_i,HD_i,VD_i,VL_i,HL_i,RL_i]"
   ]
  },
  {
   "cell_type": "code",
   "execution_count": 28,
   "id": "0b7039a4-4b54-41eb-8578-7863ba04fa87",
   "metadata": {},
   "outputs": [
    {
     "name": "stdout",
     "output_type": "stream",
     "text": [
      "[218.35, 5.627906976744186, 222.5581395348837, 21.568181818181817, 164.38636363636363, 87.73913043478261, 130.47727272727272, 107.67441860465117, 125.06818181818181, 218.88888888888889, 109.38095238095238, 104.13333333333334, 127.79069767441861, 101.23529411764706, 119.20454545454545, 251.02380952380952]\n"
     ]
    }
   ],
   "source": [
    "print(datos_finales)"
   ]
  },
  {
   "cell_type": "code",
   "execution_count": 29,
   "id": "2c2e4fe8-f761-4f57-b15a-1a3e4eefff85",
   "metadata": {},
   "outputs": [],
   "source": [
    "sum4 = np.sum(datos_finales[:4])"
   ]
  },
  {
   "cell_type": "code",
   "execution_count": 30,
   "id": "4711fedc-03b2-4f5b-8b88-47f3d6ff16ab",
   "metadata": {},
   "outputs": [],
   "source": [
    "m = np.copy(np.array(datos_finales).reshape(16, 1, 1))"
   ]
  },
  {
   "cell_type": "code",
   "execution_count": 31,
   "id": "881fc696-885c-4a3f-9fe6-6507dc2565d4",
   "metadata": {},
   "outputs": [
    {
     "name": "stdout",
     "output_type": "stream",
     "text": [
      "[[ 0.466456+0.j       -0.016782-0.015414j -0.026243+0.094909j  0.496992-0.035102j]\n",
      " [-0.016782+0.015414j  0.012023+0.j       -0.06599 -0.031625j  0.035001-0.056299j]\n",
      " [-0.026243-0.094909j -0.06599 +0.031625j  0.046076+0.j        0.012236+0.044494j]\n",
      " [ 0.496992+0.035102j  0.035001+0.056299j  0.012236-0.044494j  0.475446+0.j      ]]\n"
     ]
    }
   ],
   "source": [
    "p_p = np.sum(np.array(M_m)*m, axis=0)/sum4\n",
    "print(p_p)"
   ]
  },
  {
   "cell_type": "code",
   "execution_count": null,
   "id": "ff4c6931-35df-4c4d-90b7-16bd41b8d2c8",
   "metadata": {},
   "outputs": [],
   "source": []
  },
  {
   "cell_type": "code",
   "execution_count": 32,
   "id": "90e8388c-16df-4115-88f6-c40ae54781bf",
   "metadata": {},
   "outputs": [],
   "source": [
    "# bell state density matrix"
   ]
  },
  {
   "cell_type": "code",
   "execution_count": 33,
   "id": "f0a61eb4-509d-4ccb-948a-210d03da95c9",
   "metadata": {},
   "outputs": [],
   "source": [
    "p_real=np.array([[0.5,0,0,0.5],[0,0,0,0],[0,0,0,0],[0.5,0,0,0.5]])"
   ]
  },
  {
   "cell_type": "code",
   "execution_count": 81,
   "id": "26777e0e-9c0a-46b0-91fa-50d2a060dc7a",
   "metadata": {},
   "outputs": [
    {
     "name": "stdout",
     "output_type": "stream",
     "text": [
      "[[0.864618+0.j]]\n"
     ]
    }
   ],
   "source": [
    "#Fidelidad\n",
    "\n",
    "phi = 1./np.sqrt(2)*(np.kron(H,H)+np.kron(V,V))\n",
    "phi_density = np.matmul(phi,np.conjugate(phi).T)\n",
    "\n",
    "q1 = np.matmul(p_MLE, phi)\n",
    "fidelity = np.matmul(np.conjugate(phi).T, q1)\n",
    "\n",
    "print(fidelity)"
   ]
  },
  {
   "cell_type": "code",
   "execution_count": 35,
   "id": "f80ce330-4a50-44a7-a380-06e5f98f322e",
   "metadata": {},
   "outputs": [
    {
     "name": "stdout",
     "output_type": "stream",
     "text": [
      "[1. 0. 0. 0.]\n"
     ]
    }
   ],
   "source": [
    "print(np.linalg.eig(phi_density)[0])"
   ]
  },
  {
   "cell_type": "code",
   "execution_count": 36,
   "id": "1e9edf38-561c-42a6-ab8b-134d80669d30",
   "metadata": {},
   "outputs": [
    {
     "name": "stdout",
     "output_type": "stream",
     "text": [
      "[ 0.971536+0.j  0.172799+0.j -0.106774+0.j -0.037562+0.j]\n"
     ]
    }
   ],
   "source": [
    "#Eigenvalues\n",
    "engv = np.linalg.eig(p_p)[0]\n",
    "\n",
    "for j in range(len(engv)):\n",
    "    if np.imag(engv[j])<5e-10: engv[j] = np.real(engv[j])\n",
    "print(engv)"
   ]
  },
  {
   "cell_type": "code",
   "execution_count": 37,
   "id": "a5483cbd-1101-4300-beed-8112190ffb27",
   "metadata": {},
   "outputs": [
    {
     "name": "stdout",
     "output_type": "stream",
     "text": [
      "(-0.044292148646621676+0.6541800145349252j)\n"
     ]
    }
   ],
   "source": [
    "#entropy\n",
    "\n",
    "en = -1.0*np.sum(engv*np.log2(engv))\n",
    "print(en)"
   ]
  },
  {
   "cell_type": "code",
   "execution_count": 38,
   "id": "7a280cbf-e117-48f4-a14d-449a57bb2cb3",
   "metadata": {},
   "outputs": [
    {
     "name": "stdout",
     "output_type": "stream",
     "text": [
      "(0.4458972633783791+0j)\n"
     ]
    }
   ],
   "source": [
    "#purity\n",
    "print(np.trace(p_p**2))"
   ]
  },
  {
   "cell_type": "code",
   "execution_count": 39,
   "id": "1b70d29a-b3a1-4bf4-b917-9af60abc7cb1",
   "metadata": {},
   "outputs": [
    {
     "name": "stdout",
     "output_type": "stream",
     "text": [
      "(0.9999999999999998+0j)\n"
     ]
    }
   ],
   "source": [
    "#trace\n",
    "print(np.trace(p_p))"
   ]
  },
  {
   "cell_type": "code",
   "execution_count": 40,
   "id": "8360976d-d0f6-44b3-8b41-a142c94cd923",
   "metadata": {},
   "outputs": [],
   "source": [
    "# Maximum likelihood aproximation"
   ]
  },
  {
   "cell_type": "code",
   "execution_count": 41,
   "id": "d07cdb8a-7b3b-407e-a652-123961e296f2",
   "metadata": {},
   "outputs": [],
   "source": [
    "#Minors\n",
    "def get_minors(matrix, m, n):\n",
    "    minors = []\n",
    "    for i in range(len(matrix)):\n",
    "        for j in range(len(matrix)):\n",
    "            if i != m and j != n:\n",
    "                minor = matrix[i][j]\n",
    "                minors.append(minor)\n",
    "    return np.array(minors).reshape(len(matrix)-1, len(matrix)-1)\n",
    "\n",
    "minors = get_minors(densid_jm,0,0)"
   ]
  },
  {
   "cell_type": "code",
   "execution_count": 42,
   "id": "92a4d495-298a-4309-8773-b0776085a6a7",
   "metadata": {},
   "outputs": [
    {
     "name": "stdout",
     "output_type": "stream",
     "text": [
      "[[ 0.004543+0.j        0.02713 -0.014596j -0.064826-0.00762j ]\n",
      " [ 0.02713 +0.014596j  0.006225+0.j       -0.069453+0.013383j]\n",
      " [-0.064826+0.00762j  -0.069453-0.013383j  0.502019+0.j      ]]\n"
     ]
    }
   ],
   "source": [
    "print(minors)"
   ]
  },
  {
   "cell_type": "code",
   "execution_count": 43,
   "id": "25927b56-3189-4483-9aef-3fff5c7d3eaa",
   "metadata": {},
   "outputs": [],
   "source": [
    "#Cortar elementos menores a e-10\n",
    "def chop(q_vec):\n",
    "    for j in range(len(q_vec)):\n",
    "        if np.abs(np.imag(q_vec[j]))<9e-10: q_vec[j] = np.real(q_vec[j])\n",
    "        if np.abs(np.real(q_vec[j]))<9e-10: q_vec[j] = np.imag(q_vec[j])*1.j"
   ]
  },
  {
   "cell_type": "code",
   "execution_count": null,
   "id": "1aa327fa-c23b-44da-b528-d9d4e621727e",
   "metadata": {},
   "outputs": [],
   "source": []
  },
  {
   "cell_type": "code",
   "execution_count": 44,
   "id": "482ec4fb-215f-4248-bbc9-5e8cd7607dac",
   "metadata": {},
   "outputs": [],
   "source": [
    "#determinants\n",
    "det_p = np.real(np.linalg.det(p_p))\n",
    "\n",
    "M11 = np.array(get_minors(p_p,0,0))\n",
    "M12 = np.array(get_minors(p_p,0,1))\n",
    "M11_22 = np.array(get_minors(M11,0,0))\n",
    "M12_23 = np.array(get_minors(M12,0,1))\n",
    "M11_23 = np.array(get_minors(M11,0,1))\n",
    "\n",
    "detM11 = np.real(np.linalg.det(M11))\n",
    "detM12 = np.linalg.det(M12)\n",
    "detM11_22 = np.real(np.linalg.det(M11_22))\n",
    "detM12_23 = np.linalg.det(M12_23)\n",
    "detM11_23 = np.linalg.det(M11_23)"
   ]
  },
  {
   "cell_type": "code",
   "execution_count": 45,
   "id": "8fe5bb86-878d-403a-9f2c-2ad4cdb35631",
   "metadata": {},
   "outputs": [
    {
     "name": "stdout",
     "output_type": "stream",
     "text": [
      "[[-0.06599 +0.031625j  0.012236+0.044494j]\n",
      " [ 0.035001+0.056299j  0.475446+0.j      ]]\n"
     ]
    }
   ],
   "source": [
    "print(M11_23)"
   ]
  },
  {
   "cell_type": "code",
   "execution_count": 46,
   "id": "71d4d9bb-46a8-45f8-a97c-75a463960fdc",
   "metadata": {},
   "outputs": [
    {
     "name": "stdout",
     "output_type": "stream",
     "text": [
      "0.01977701118710597\n"
     ]
    }
   ],
   "source": [
    "print(detM11_22)"
   ]
  },
  {
   "cell_type": "code",
   "execution_count": 47,
   "id": "cf25af53-3564-47ce-a41e-2bbc105661eb",
   "metadata": {},
   "outputs": [
    {
     "name": "stdout",
     "output_type": "stream",
     "text": [
      "[[ 0.466456+0.j       -0.016782-0.015414j -0.026243+0.094909j  0.496992-0.035102j]\n",
      " [-0.016782+0.015414j  0.012023+0.j       -0.06599 -0.031625j  0.035001-0.056299j]\n",
      " [-0.026243-0.094909j -0.06599 +0.031625j  0.046076+0.j        0.012236+0.044494j]\n",
      " [ 0.496992+0.035102j  0.035001+0.056299j  0.012236-0.044494j  0.475446+0.j      ]]\n"
     ]
    }
   ],
   "source": [
    "print(p_p)"
   ]
  },
  {
   "cell_type": "code",
   "execution_count": 48,
   "id": "d1b4576a-dab6-4ed2-905c-cc6c84acaa4b",
   "metadata": {},
   "outputs": [
    {
     "name": "stdout",
     "output_type": "stream",
     "text": [
      "[ 0.971536-3.691099e-18j  0.172799+2.831642e-17j -0.106774-4.291441e-18j -0.037562-3.421167e-17j]\n"
     ]
    }
   ],
   "source": [
    "print(np.linalg.eig(p_p)[0])"
   ]
  },
  {
   "cell_type": "code",
   "execution_count": 49,
   "id": "2f7a24da-1748-4058-a23c-652dde020936",
   "metadata": {},
   "outputs": [
    {
     "name": "stdout",
     "output_type": "stream",
     "text": [
      "[[ 0.      +0.566978j  0.      +0.j        0.      +0.j        0.      +0.j      ]\n",
      " [-0.498652+0.056673j  0.      +0.32543j   0.      +0.j        0.      +0.j      ]\n",
      " [-0.697822+0.175278j  0.131898+0.302138j  0.203953+0.j        0.      +0.j      ]\n",
      " [ 0.720774+0.050908j  0.050761+0.081649j  0.017745-0.064529j  0.689526+0.j      ]]\n"
     ]
    }
   ],
   "source": [
    "#T matrix\n",
    "T1 = [np.sqrt(np.abs(det_p/detM11))*1.j,0,0,0]\n",
    "T2 = [detM12/(1.j*np.sqrt(-detM11*detM11_22)),1.j*np.sqrt(detM11/-detM11_22),0,0]\n",
    "T3 = [detM12_23/(np.sqrt(p_p[3,3])*1.j*np.sqrt(np.abs(detM11_22))),detM11_23/(np.sqrt(p_p[3,3])*1.j*np.sqrt(np.abs(detM11_22))),np.sqrt(1.0*detM11_22/p_p[3,3]),0]\n",
    "T4 = [p_p[3,0]/np.sqrt(p_p[3,3]),p_p[3,1]/np.sqrt(p_p[3,3]),p_p[3,2]/np.sqrt(p_p[3,3]),np.sqrt(p_p[3,3])]\n",
    "chop(T1)\n",
    "chop(T2)\n",
    "chop(T3)\n",
    "chop(T4)\n",
    "T = np.array([T1,T2,T3,T4], dtype = 'complex128')\n",
    "print(T)"
   ]
  },
  {
   "cell_type": "code",
   "execution_count": 50,
   "id": "a9d85e66-8569-4517-8062-ade55448f58d",
   "metadata": {},
   "outputs": [
    {
     "name": "stdout",
     "output_type": "stream",
     "text": [
      "[ 0.        0.        0.203953  0.689526 -0.498652  0.056673  0.131898  0.302138  0.017745 -0.064529 -0.697822  0.175278  0.050761  0.081649  0.720774  0.050908]\n"
     ]
    }
   ],
   "source": [
    "#T parameters\n",
    "\n",
    "q1 = T[0,0]\n",
    "q2 = T[1,1]\n",
    "q3 = T[2,2]\n",
    "q4 = T[3,3]\n",
    "q5 = np.real(T[1,0])\n",
    "q6 = np.imag(T[1,0])\n",
    "q7 = np.real(T[2,1])\n",
    "q8 = np.imag(T[2,1])\n",
    "q9 = np.real(T[3,2])\n",
    "q10 = np.imag(T[3,2])\n",
    "q11 = np.real(T[2,0])\n",
    "q12 = np.imag(T[2,0])\n",
    "q13 = np.real(T[3,1])\n",
    "q14 = np.imag(T[3,1])\n",
    "q15 = np.real(T[3,0])\n",
    "q16 = np.imag(T[3,0])\n",
    "\n",
    "q_vec = np.array([q1,q2,q3,q4,q5,q6,q7,q8,q9,q10,q11,q12,q13,q14,q15,q16])\n",
    "chop(q_vec)\n",
    "print(np.real(q_vec))"
   ]
  },
  {
   "cell_type": "code",
   "execution_count": 51,
   "id": "784eb14d-a978-498b-881c-cfed5a1026b3",
   "metadata": {},
   "outputs": [
    {
     "name": "stdout",
     "output_type": "stream",
     "text": [
      "[[ 0.683967+0.j        0.008524-0.144147j -0.056315-0.035261j  0.210727-0.014884j]\n",
      " [ 0.008524+0.144147j  0.094906+0.j        0.009554-0.028131j  0.014841-0.023871j]\n",
      " [-0.056315+0.035261j  0.009554+0.028131j  0.019536+0.j        0.005188+0.018866j]\n",
      " [ 0.210727+0.014884j  0.014841+0.023871j  0.005188-0.018866j  0.201591+0.j      ]]\n"
     ]
    }
   ],
   "source": [
    "#Estimacion inicial\n",
    "p_cor = np.matmul(np.conjugate(T).T,T)/np.trace(np.matmul(np.conjugate(T).T,T))\n",
    "print(p_cor)"
   ]
  },
  {
   "cell_type": "code",
   "execution_count": 52,
   "id": "c00babc0-fdf2-4df2-8cf4-dd0217b04ea7",
   "metadata": {},
   "outputs": [],
   "source": [
    "# log function\n",
    "\n",
    "p_func = 0\n",
    "\n",
    "for j in range(16):\n",
    "    sandwR = np.matmul(p_cor,BASIS_Q2_kets[j])\n",
    "    sandwL = (np.power((sum4*np.matmul(np.conjugate(BASIS_Q2_kets[j]).T,sandwR)-datos_finales[j]),2))/(2*sum4*(np.matmul(np.conjugate(BASIS_Q2_kets[j]).T,sandwR)))\n",
    "    p_func = p_func + sandwL"
   ]
  },
  {
   "cell_type": "code",
   "execution_count": 53,
   "id": "1281b310-c279-4b98-aee4-eb119984e03e",
   "metadata": {},
   "outputs": [],
   "source": [
    "def log_p(t):\n",
    "    t1,t2,t3,t4,t5,t6,t7,t8,t9,t10,t11,t12,t13,t14,t15,t16 = t\n",
    "    T1 = [t1,0,0,0]\n",
    "    T2 = [t5+1.j*t6,t2,0,0]\n",
    "    T3 = [t11+1.j*t12,t7+1.j*t8,t3,0]\n",
    "    T4 = [t15+1.j*t16,t13+1.j*t14,t9+1.j*t10,t4]\n",
    "    T = np.array([T1,T2,T3,T4],dtype = 'complex128')\n",
    "    p_cor = np.matmul(np.conjugate(T).T,T)/np.trace(np.matmul(np.conjugate(T).T,T))\n",
    "    \n",
    "    p_func = 0\n",
    "    for j in range(16):\n",
    "        sandwR = np.matmul(p_cor,BASIS_Q2_kets[j])\n",
    "        sandwL = ((sum4*np.matmul(np.conjugate(BASIS_Q2_kets[j]).T,sandwR)-datos_finales[j])**2)/(2*sum4*(np.matmul(np.conjugate(BASIS_Q2_kets[j]).T,sandwR)))\n",
    "        sandwich = sandwL.flatten()[0]\n",
    "        p_func = p_func + sandwich\n",
    "    return np.real(p_func)"
   ]
  },
  {
   "cell_type": "code",
   "execution_count": 54,
   "id": "e68bbcec-4f2c-48ee-a9dc-ad738522c60b",
   "metadata": {},
   "outputs": [
    {
     "name": "stderr",
     "output_type": "stream",
     "text": [
      "C:\\Users\\Fernando\\anaconda3\\lib\\site-packages\\numpy\\core\\_asarray.py:102: ComplexWarning: Casting complex values to real discards the imaginary part\n",
      "  return array(a, dtype, copy=False, order=order)\n"
     ]
    }
   ],
   "source": [
    "from scipy.optimize import minimize\n",
    "L_res = minimize(log_p,q_vec, method = 'Nelder-Mead', tol = 5e-6,options={'maxiter':100000})"
   ]
  },
  {
   "cell_type": "code",
   "execution_count": 55,
   "id": "d8d91164-be74-4f4d-8b68-0ffbb69d4dc8",
   "metadata": {},
   "outputs": [
    {
     "name": "stderr",
     "output_type": "stream",
     "text": [
      "C:\\Users\\Fernando\\anaconda3\\lib\\site-packages\\scipy\\optimize\\optimize.py:3075: ComplexWarning: Casting complex values to real discards the imaginary part\n",
      "  direc[-1] = direc1\n"
     ]
    }
   ],
   "source": [
    "T_res = minimize(log_p,q_vec, method = 'Powell', tol = 5e-15,options={'maxiter':100000})"
   ]
  },
  {
   "cell_type": "code",
   "execution_count": 56,
   "id": "8e91daeb-7aa9-4755-852c-077349039181",
   "metadata": {},
   "outputs": [],
   "source": [
    "valor_minimo = L_res.x\n",
    "valor_minimo2 = T_res.x"
   ]
  },
  {
   "cell_type": "code",
   "execution_count": 57,
   "id": "d4d2a4cd-baab-4372-bade-96cf614e4e51",
   "metadata": {},
   "outputs": [],
   "source": [
    "def p_def(t):\n",
    "    t1,t2,t3,t4,t5,t6,t7,t8,t9,t10,t11,t12,t13,t14,t15,t16 = t\n",
    "    T1 = [t1,0,0,0]\n",
    "    T2 = [t5+1.j*t6,t2,0,0]\n",
    "    T3 = [t11+1.j*t12,t7+1.j*t8,t3,0]\n",
    "    T4 = [t15+1.j*t16,t13+1.j*t14,t9+1.j*t10,t4]\n",
    "    T = np.array([T1,T2,T3,T4],dtype = 'complex64')\n",
    "    p_cor = np.matmul(np.conjugate(T).T,T)/np.trace(np.matmul(np.conjugate(T).T,T))\n",
    "    return p_cor"
   ]
  },
  {
   "cell_type": "code",
   "execution_count": 58,
   "id": "c9927bcd-1af9-4beb-9f8e-cee838ce08ac",
   "metadata": {},
   "outputs": [
    {
     "name": "stdout",
     "output_type": "stream",
     "text": [
      "[-0.041149  0.009891  0.865344  2.669553 -0.013742  0.108431 -0.210774  0.374365  0.034841 -0.044517 -0.317624 -1.385871  0.155632  0.146064  2.286993  0.147293]\n"
     ]
    }
   ],
   "source": [
    "print(valor_minimo)"
   ]
  },
  {
   "cell_type": "code",
   "execution_count": 59,
   "id": "feb6f9b8-881b-460c-af7f-7e9e7cce33eb",
   "metadata": {},
   "outputs": [
    {
     "name": "stdout",
     "output_type": "stream",
     "text": [
      "[[ 0.473319+0.j       -0.004843-0.006558j -0.013103+0.070948j  0.396549-0.02554j ]\n",
      " [-0.004843+0.006558j  0.014954+0.j       -0.011917-0.021822j  0.026986-0.025326j]\n",
      " [-0.013103-0.070948j -0.011917+0.021822j  0.048845+0.j        0.006041+0.007719j]\n",
      " [ 0.396549+0.02554j   0.026986+0.025326j  0.006041-0.007719j  0.462882+0.j      ]]\n"
     ]
    }
   ],
   "source": [
    "print(p_def(valor_minimo))"
   ]
  },
  {
   "cell_type": "code",
   "execution_count": 60,
   "id": "1b54f030-35ae-4c84-9e98-a182d0902dc4",
   "metadata": {},
   "outputs": [
    {
     "name": "stdout",
     "output_type": "stream",
     "text": [
      "[[ 0.473402+0.j       -0.004787-0.006516j -0.013095+0.071104j  0.396524-0.026661j]\n",
      " [-0.004787+0.006516j  0.01495 +0.j       -0.011682-0.021942j  0.027252-0.025231j]\n",
      " [-0.013095-0.071104j -0.011682+0.021942j  0.048864+0.j        0.006409+0.007721j]\n",
      " [ 0.396524+0.026661j  0.027252+0.025231j  0.006409-0.007721j  0.462784+0.j      ]]\n"
     ]
    }
   ],
   "source": [
    "print(p_def(valor_minimo2))"
   ]
  },
  {
   "cell_type": "code",
   "execution_count": 79,
   "id": "42898240-1773-4392-94f7-2e9ba5baf5bc",
   "metadata": {},
   "outputs": [
    {
     "name": "stdout",
     "output_type": "stream",
     "text": [
      "[-1.766790e-01 -3.849117e-01 -1.612844e-07           nan]\n",
      "0.561590850353241\n"
     ]
    },
    {
     "name": "stderr",
     "output_type": "stream",
     "text": [
      "C:\\Users\\Fernando\\AppData\\Local\\Temp/ipykernel_23232/2214155919.py:5: RuntimeWarning: invalid value encountered in log2\n",
      "  vN = np.log2(np.real(np.linalg.eig(p_MLE)[0]))*np.real(np.linalg.eig(p_MLE)[0])\n"
     ]
    }
   ],
   "source": [
    "p_MLE = p_def(valor_minimo2)\n",
    "\n",
    "#Von Neumann Entropy\n",
    "\n",
    "vN = np.log2(np.real(np.linalg.eig(p_MLE)[0]))*np.real(np.linalg.eig(p_MLE)[0])\n",
    "print(vN)\n",
    "\n",
    "print(-1.0*(vN[0]+vN[1]+vN[2]))"
   ]
  },
  {
   "cell_type": "code",
   "execution_count": 65,
   "id": "0f56df60-d47b-4ff2-bd49-868e18d51fd0",
   "metadata": {},
   "outputs": [
    {
     "name": "stdout",
     "output_type": "stream",
     "text": [
      "[[ 3.741469e-01-0.023333j  1.742026e-03-0.02575j  -1.082590e-02-0.008454j  3.762321e-01+0.j      ]\n",
      " [ 8.694009e-03-0.007528j -1.071305e-03-0.001834j  2.404564e-04+0.j        1.082590e-02-0.008454j]\n",
      " [-4.400355e-03-0.028833j  1.241087e-04+0.j       -1.071305e-03+0.001834j -1.742026e-03-0.02575j ]\n",
      " [ 3.670509e-01+0.j        4.400355e-03-0.028833j -8.694009e-03-0.007528j  3.741469e-01+0.023333j]]\n"
     ]
    }
   ],
   "source": [
    "# CONCURRENCIA Y TANGLE\n",
    "\n",
    "flip = np.kron(s2,s2)\n",
    "#R matrix\n",
    "R_left = np.matmul(p_MLE, flip)\n",
    "chop_mtx(R_left)\n",
    "R_right = np.matmul(np.conjugate(p_MLE).T, flip)\n",
    "chop_mtx(R_right)\n",
    "R_mtx = np.matmul(R_left,R_right)\n",
    "chop_mtx(R_mtx)\n",
    "\n",
    "print(R_mtx)"
   ]
  },
  {
   "cell_type": "code",
   "execution_count": 66,
   "id": "e701a384-3f26-475b-8b10-231c985440ba",
   "metadata": {},
   "outputs": [
    {
     "name": "stdout",
     "output_type": "stream",
     "text": [
      "[[ 0.+0.j  0.-0.j  0.-0.j -1.+0.j]\n",
      " [ 0.+0.j  0.+0.j  1.-0.j  0.-0.j]\n",
      " [ 0.+0.j  1.-0.j  0.+0.j  0.-0.j]\n",
      " [-1.+0.j  0.+0.j  0.+0.j  0.+0.j]]\n"
     ]
    }
   ],
   "source": [
    "print(flip)"
   ]
  },
  {
   "cell_type": "code",
   "execution_count": 67,
   "id": "6c52888f-b052-42da-96e6-fb139a1abaa9",
   "metadata": {},
   "outputs": [
    {
     "name": "stdout",
     "output_type": "stream",
     "text": [
      "[0.473402 0.01495  0.462784 0.048864 0.332237 0.213636 0.266119 0.248038 0.255321 0.45031  0.249446 0.239389 0.262233 0.248104 0.250692 0.476437]\n"
     ]
    }
   ],
   "source": [
    "#Probabilities Sv\n",
    "Sv = []\n",
    "for j in range(16):\n",
    "    S_right = np.matmul(p_MLE,BASIS_Q2_kets[j])\n",
    "    chop_mtx(S_right)\n",
    "    S_lef = np.matmul(np.conjugate(BASIS_Q2_kets[j]).T,S_right)\n",
    "    chop_mtx(S_lef)\n",
    "    Sv.append(S_lef[0,0])\n",
    "Sv = np.array(Sv)\n",
    "print(np.real(Sv))"
   ]
  },
  {
   "cell_type": "code",
   "execution_count": 68,
   "id": "3ab70bef-80ea-49c0-b8f8-f27bd593bd85",
   "metadata": {},
   "outputs": [],
   "source": [
    "#Sv = data_j/Normal\n",
    "#print(Sv)"
   ]
  },
  {
   "cell_type": "code",
   "execution_count": 69,
   "id": "7fd890f6-4dc1-4c2c-a194-9176ca758968",
   "metadata": {},
   "outputs": [],
   "source": [
    "def chop_mtx(x):\n",
    "    x=np.array(x)\n",
    "    for i in range(x.shape[0]):\n",
    "        chop(x[i])"
   ]
  },
  {
   "cell_type": "code",
   "execution_count": 70,
   "id": "cd170014-2ec0-4a01-8140-a2c691f7288a",
   "metadata": {},
   "outputs": [],
   "source": [
    "#other way R \n",
    "\n",
    "# q elements\n",
    "q_mat = []\n",
    "for u in range(16):\n",
    "    for v in range(16):\n",
    "        sum_left = np.matmul(np.matmul(M_m[u],flip),np.matmul(M_m[v].T,flip))\n",
    "        sum_right = np.matmul(np.matmul(M_m[v],flip),np.matmul(M_m[u].T,flip))\n",
    "        q_sum = sum_left + sum_right\n",
    "        q_mat.append(q_sum)\n",
    "q_mat = np.array(q_mat)"
   ]
  },
  {
   "cell_type": "code",
   "execution_count": 71,
   "id": "e44448c4-51fa-4ef9-8d0f-1af39c008e0c",
   "metadata": {},
   "outputs": [
    {
     "name": "stdout",
     "output_type": "stream",
     "text": [
      "[[ 0.379257-0.001603j  0.002413+0.022754j -0.011459+0.010477j  0.374379-0.024732j]\n",
      " [ 0.008932-0.005255j  0.00358 +0.001603j -0.000417-0.001253j  0.011459-0.010477j]\n",
      " [-0.005151-0.031137j -0.002072+0.003258j  0.00358 +0.001603j -0.002413-0.022754j]\n",
      " [ 0.366272+0.024774j  0.005151+0.031137j -0.008932+0.005255j  0.379257-0.001603j]]\n"
     ]
    }
   ],
   "source": [
    "R_other = np.zeros((4,4))\n",
    "\n",
    "for u in range(16):\n",
    "    for v in range(16):\n",
    "        R_element = q_mat[16*u+v]*Sv[u]*Sv[v]\n",
    "        R_other = R_other + R_element\n",
    "R_other= 0.5*np.array(R_other)\n",
    "print(R_other)"
   ]
  },
  {
   "cell_type": "code",
   "execution_count": 72,
   "id": "f960b2e7-5448-4c5c-9b38-1e0d1348feb0",
   "metadata": {},
   "outputs": [],
   "source": [
    "def may_men(x):\n",
    "    x= np.array(x)\n",
    "    d = np.abs(np.sort(-1.0*x))\n",
    "    return d"
   ]
  },
  {
   "cell_type": "code",
   "execution_count": 73,
   "id": "46140b62-d0d4-471e-95cf-a6d2268bab80",
   "metadata": {},
   "outputs": [],
   "source": [
    "# eigenvalores de R with modified R\n",
    "\n",
    "R_a1 = np.sqrt(may_men(np.linalg.eig(R_mtx)[0]))*np.array([1,-1,-1,-1])\n",
    "R_a2 = np.sqrt(may_men(np.linalg.eig(R_other)[0]))*np.array([1,-1,-1,-1])\n",
    "chop(R_a1)\n",
    "chop(R_a2)"
   ]
  },
  {
   "cell_type": "code",
   "execution_count": 74,
   "id": "bcdf958e-503d-4540-8467-b41ad8d38ac8",
   "metadata": {},
   "outputs": [
    {
     "name": "stdout",
     "output_type": "stream",
     "text": [
      "[ 8.625666e-01 -4.615335e-02 -1.111132e-08 -3.542279e-09]\n",
      "[ 8.670176e-01 -1.181340e-01 -9.825405e-09 -1.197746e-08]\n"
     ]
    }
   ],
   "source": [
    "print(R_a1)\n",
    "print(R_a2)"
   ]
  },
  {
   "cell_type": "code",
   "execution_count": 75,
   "id": "2e07d46e-cea1-4b8a-9771-546613d823c5",
   "metadata": {},
   "outputs": [
    {
     "name": "stdout",
     "output_type": "stream",
     "text": [
      "0.7488836357493562\n"
     ]
    }
   ],
   "source": [
    "asdas = may_men(np.linalg.eig(R_other)[0])\n",
    "\n",
    "gola = 0\n",
    "for i in range(4):\n",
    "    ada = np.sign(0.5 - i)*np.sqrt(asdas[i])\n",
    "    gola = gola + ada\n",
    "print(gola)"
   ]
  },
  {
   "cell_type": "code",
   "execution_count": 88,
   "id": "a9d1df8d-8268-4379-a97c-6a25c4acb6c3",
   "metadata": {},
   "outputs": [
    {
     "name": "stdout",
     "output_type": "stream",
     "text": [
      "0.8164132467017718 0.7488836357493562\n"
     ]
    }
   ],
   "source": [
    "# Concurrencia \n",
    "\n",
    "C_con1 = np.maximum(0,np.sum(R_a1))\n",
    "C_con2 = np.maximum(0,np.sum(R_a2))\n",
    "print(C_con1,C_con2)"
   ]
  },
  {
   "cell_type": "code",
   "execution_count": 89,
   "id": "f07d05be-07a2-4a8d-a12f-575305fffcae",
   "metadata": {},
   "outputs": [
    {
     "name": "stdout",
     "output_type": "stream",
     "text": [
      "0.6665305893901282 0.5608266998931745\n"
     ]
    }
   ],
   "source": [
    "print(C_con1**2,C_con2**2)"
   ]
  },
  {
   "cell_type": "code",
   "execution_count": 78,
   "id": "94f58061-17fa-489d-a5bb-49776680405a",
   "metadata": {},
   "outputs": [
    {
     "name": "stdout",
     "output_type": "stream",
     "text": [
      "0.6665305893901282\n"
     ]
    }
   ],
   "source": [
    "# Error de concurrencia \n",
    "\n",
    "\n",
    "print(C_con1**2)"
   ]
  },
  {
   "cell_type": "code",
   "execution_count": 74,
   "id": "535c086a-9643-4eab-b52d-6b073e96a2be",
   "metadata": {
    "tags": []
   },
   "outputs": [],
   "source": [
    "# WAVE PLATES\n",
    "\n",
    "def QWP(q):\n",
    "    f1 = np.array([1-1.j*np.cos(2*q),1.j*np.sin(2*q)], dtype = 'complex64')\n",
    "    chop(f1)\n",
    "    f2 = np.array([1.j*np.sin(2*q),1+1.j*np.cos(2*q)], dtype = 'complex64')\n",
    "    chop(f2)\n",
    "    QWP_m = (1/np.sqrt(2))*np.array([f1,f2],dtype='complex64')\n",
    "    return QWP_m\n",
    "\n",
    "def GT_POL(p):\n",
    "    f1 = np.array([np.cos(p)**2,np.cos(p)*np.sin(p)], dtype = 'complex64')\n",
    "    chop(f1)\n",
    "    f2 = np.array([np.cos(p)*np.sin(p),np.sin(p)**2], dtype = 'complex64')\n",
    "    chop(f2)\n",
    "    pol = np.array([f1,f2],dtype='complex64')\n",
    "    return pol"
   ]
  },
  {
   "cell_type": "code",
   "execution_count": 75,
   "id": "1554838d-c528-4b9d-ae33-0fdfad41396a",
   "metadata": {
    "tags": []
   },
   "outputs": [
    {
     "name": "stdout",
     "output_type": "stream",
     "text": [
      "[[0.353553+0.353553j]\n",
      " [0.353553+0.353553j]]\n"
     ]
    }
   ],
   "source": [
    "print(np.matmul(QWP(np.pi/4),np.matmul(GT_POL(np.pi/4),V)))"
   ]
  },
  {
   "cell_type": "code",
   "execution_count": 76,
   "id": "cdc862f1-5660-4bde-9c93-208eaf9d7cbc",
   "metadata": {
    "tags": []
   },
   "outputs": [
    {
     "name": "stdout",
     "output_type": "stream",
     "text": [
      "[[0.+0.j]\n",
      " [0.+0.j]]\n"
     ]
    }
   ],
   "source": [
    "print(np.matmul(QWP(0),np.matmul(GT_POL(0),V)))"
   ]
  },
  {
   "cell_type": "code",
   "execution_count": 77,
   "id": "2564ba0d-87ff-48a1-bb7f-76d90411df7b",
   "metadata": {},
   "outputs": [],
   "source": [
    "QWP1 = np.array([0,0,0,0,np.pi/4,np.pi/4,np.pi/4,np.pi/4,0,0,0,0,np.pi/4,np.pi/4,np.pi/4,np.pi/4])\n",
    "POL1 = np.array([0,0,0,0,np.pi/4,np.pi/4,np.pi/4,np.pi/4,np.pi/2,np.pi/2,np.pi/2,np.pi/2,np.pi/2,np.pi/2,np.pi/2,np.pi/2])\n",
    "QWP2 = np.array([0,np.pi/4,0,np.pi/4,0,np.pi/4,0,np.pi/4,0,np.pi/4,0,np.pi/4,0,np.pi/4,0,np.pi/4])\n",
    "POL2 = np.array([0,np.pi/4,np.pi/2,0,0,np.pi/4,np.pi/2,np.pi/2,0,np.pi/4,np.pi/2,0,0,np.pi/4,np.pi/2,0])"
   ]
  },
  {
   "cell_type": "code",
   "execution_count": 78,
   "id": "94f1402f-02c4-4d32-9032-129e8578a69e",
   "metadata": {},
   "outputs": [],
   "source": [
    "# ESTADOS QUE PASAN POR EL POL\n",
    "\n",
    "States_o1 = [H,H,H,H,D,D,D,D,V,V,V,V,V,V,V,V]\n",
    "States_o2 = [H,D,V,H,H,D,V,V,H,D,V,H,H,D,V,H]\n"
   ]
  },
  {
   "cell_type": "code",
   "execution_count": 79,
   "id": "c0f28055-82a3-4de3-afe0-579323779fa2",
   "metadata": {},
   "outputs": [],
   "source": [
    "# h'v 'd 'a\n",
    "\n",
    "kets_rot = []\n",
    "for i,j,z in zip(QWP1,POL1,States_o1):\n",
    "    k=0\n",
    "    evo_mes = np.matmul(GT_POL(j),z)\n",
    "    evo_rot = np.matmul(QWP(i),evo_mes)\n",
    "  \n",
    "    nam = np.matmul(H.T, evo_rot)[0]\n",
    "    if nam!= 0: \n",
    "        evo_rot =evo_rot*np.conjugate(nam)\n",
    "        k=k+1\n",
    "    nem = np.matmul(V.T, evo_rot)[0]\n",
    "    if nem!= 0 and k==0:\n",
    "        evo_rot =evo_rot*np.conjugate(nem)\n",
    "        \n",
    "    norm = np.sqrt(np.matmul(np.conjugate(evo_rot).T,evo_rot)[0])\n",
    "    if norm!= 0: evo_rot = evo_rot/norm\n",
    "   \n",
    "    kets_rot.append(evo_rot)\n",
    "kets_rot=np.array(kets_rot)"
   ]
  },
  {
   "cell_type": "code",
   "execution_count": 90,
   "id": "7f36b590-680d-47c5-947a-53859c4b11fa",
   "metadata": {
    "tags": []
   },
   "outputs": [],
   "source": [
    "# james states from plates \n",
    "from numerics import der1_min_err as der_w\n",
    "\n",
    "def QWP_j(q,h= np.pi/2, tol=5e-15):\n",
    "    f1 = np.array([1.j-np.cos(2*q),np.sin(2*q)], dtype = 'complex64')\n",
    "    chop(f1)\n",
    "    f2 = np.array([np.sin(2*q),1.j+np.cos(2*q)], dtype = 'complex64')\n",
    "    chop(f2)\n",
    "    QWP_m = (1/np.sqrt(2))*np.array([f1,f2],dtype='complex64')\n",
    "    \n",
    "    #derivada \n",
    "    f1_der = lambda q1: 1.j-np.cos(2*q1)\n",
    "    f2_der = lambda q2: np.sin(2*q2)\n",
    "    f3_der = lambda q3: np.sin(2*q3)\n",
    "    f4_der = lambda q4: 1.j +np.cos(2*q4)\n",
    "    \n",
    "    f_der = np.array([f1_der,f2_der,f3_der,f4_der])\n",
    "    \n",
    "    QWP_der = []\n",
    "    for i in f_der:\n",
    "        derfi_new = der_w(i,q, h, tol)\n",
    "        QWP_der.append(derfi_new[0])\n",
    "    QWP_der=(1/np.sqrt(2))*np.array(QWP_der, dtype = 'complex64').reshape(2,2)\n",
    "    chop(QWP_der[0])\n",
    "    chop(QWP_der[1])\n",
    "        \n",
    "    return np.array([QWP_m,QWP_der])\n",
    "\n",
    "def HWP_j(p,h= np.pi/2, tol=5e-15):\n",
    "    f1 = np.array([np.cos(2*p), -np.sin(2*p)], dtype = 'complex64')\n",
    "    chop(f1)\n",
    "    f2 = np.array([-np.sin(2*p),-np.cos(2*p)], dtype = 'complex64')\n",
    "    chop(f2)\n",
    "    pol = np.array([f1,f2],dtype='complex64')\n",
    "    \n",
    "      #derivada \n",
    "    f1_der = lambda q1: np.cos(2*q1)\n",
    "    f2_der = lambda q2: -np.sin(2*q2)\n",
    "    f3_der = lambda q3: -np.sin(2*q3)\n",
    "    f4_der = lambda q4: -np.cos(2*q4)\n",
    "    \n",
    "    f_der = np.array([f1_der,f2_der,f3_der,f4_der])\n",
    "    \n",
    "    HWP_der = []\n",
    "    for i in f_der:\n",
    "        derfi_new = der_w(i,p, h, tol)\n",
    "        HWP_der.append(derfi_new[0])\n",
    "    HWP_der= np.array(HWP_der, dtype = 'complex64').reshape(2,2)\n",
    "    chop(HWP_der[0])\n",
    "    chop(HWP_der[1])\n",
    "        \n",
    "    return np.array([pol,HWP_der])"
   ]
  },
  {
   "cell_type": "code",
   "execution_count": 91,
   "id": "52dcad68-8f1a-40db-8e06-453750e0d946",
   "metadata": {},
   "outputs": [],
   "source": [
    "#james config\n",
    "hj1 = np.array([np.pi/4,np.pi/4,0,0,np.pi/8,np.pi/8,np.pi/8,np.pi/8,np.pi/8,np.pi/8,np.pi/8,np.pi/4,0,0,np.pi/4,np.pi/8])\n",
    "qj1 = np.array([0,0,0,0,0,0,np.pi/4,np.pi/4,np.pi/4,np.pi/4,0,0,0,0,0,0])\n",
    "hj2 = np.array([np.pi/4,0,0,np.pi/4,np.pi/4,0,0,np.pi/4,np.pi/8,np.pi/8,np.pi/8,np.pi/8,np.pi/8,np.pi/8,np.pi/8,np.pi/8])\n",
    "qj2 = np.array([0,0,0,0,0,0,0,0,0,np.pi/4,np.pi/4,np.pi/4,np.pi/4,np.pi/2,np.pi/2,np.pi/2])"
   ]
  },
  {
   "cell_type": "code",
   "execution_count": 92,
   "id": "d43b26d8-2ce3-41fb-b36b-adcfe7e76a97",
   "metadata": {},
   "outputs": [],
   "source": [
    "# Makinola generadora de kets\n",
    "\n",
    "def ketQHV(h,q,num1,num2): \n",
    "    kets_rot = []\n",
    "    for i,j in zip(q,h):\n",
    "        k = 0\n",
    "        evo_rot = np.matmul(QWP_j(i)[num1],np.matmul(HWP_j(j)[num2],V))\n",
    "        nam = np.matmul(H.T, evo_rot)[0]\n",
    "        if nam!= 0: \n",
    "            evo_rot =evo_rot*np.conjugate(nam)\n",
    "            k=k+1\n",
    "        nem = np.matmul(V.T, evo_rot)[0]\n",
    "        if nem!= 0 and k==0:\n",
    "            evo_rot =evo_rot*np.conjugate(nem)\n",
    "        norm = np.sqrt(np.matmul(np.conjugate(evo_rot).T,evo_rot)[0])\n",
    "        if norm!= 0: evo_rot = evo_rot/norm\n",
    "        kets_rot.append(evo_rot)\n",
    "    kets_rot=np.array(kets_rot)\n",
    "    return kets_rot"
   ]
  },
  {
   "cell_type": "code",
   "execution_count": 93,
   "id": "51eeb949-1615-4822-b110-bb7ff45e9ae2",
   "metadata": {},
   "outputs": [
    {
     "name": "stderr",
     "output_type": "stream",
     "text": [
      "invalid value encountered in double_scalars\n"
     ]
    }
   ],
   "source": [
    "#kets paper\n",
    "kets1_j = ketQHV(hj1,qj1,0,0)\n",
    "kets2_j = ketQHV(hj2,qj2,0,0)\n",
    "\n",
    "# hwp1: theta 1, qwp1: theta2, hwp2: theta 3, qwp2: theta4 \n",
    "\n",
    "#derivada de kets_paper\n",
    "kets1_derh1_j =  ketQHV(hj1,qj1,0,1)\n",
    "kets1_derq2_j =  ketQHV(hj1,qj1,1,0)\n",
    "kets2_derh3_j =  ketQHV(hj2,qj2,0,1)\n",
    "kets2_derq4_j =  ketQHV(hj2,qj2,1,0)"
   ]
  },
  {
   "cell_type": "code",
   "execution_count": 94,
   "id": "df8e5eef-56bf-450e-a8df-2124842e4e6d",
   "metadata": {},
   "outputs": [],
   "source": [
    "# 2 qubits system james\n",
    "\n",
    "#ket1 x ket2\n",
    "kets_2q_j=np.array([np.kron(kets1_j[i],kets2_j[i]) for i in range(16)])\n",
    "#derh1_ket1 x ket2\n",
    "kets_2q_derh1_j = np.array([np.kron(kets1_derh1_j[i],kets2_j[i]) for i in range(16)])  \n",
    "#kets_2q_derh1_j = np.copy(cam_h1)\n",
    "#derq1_ket1x ket2\n",
    "kets_2q_derq1_j = np.array([np.kron(kets1_derq2_j[i],kets2_j[i]) for i in range(16)])  \n",
    "#kets_2q_derq1_j = np.copy(cam_q1)\n",
    "#ket1 x derh2_ket2\n",
    "kets_2q_derh2_j = np.array([np.kron(kets1_j[i],kets2_derh3_j[i]) for i in range(16)]) \n",
    "#kets_2q_derh2_j = np.copy(cam_h2)\n",
    "#ket1 x derq2_ket2\n",
    "kets_2q_derq2_j = np.array([np.kron(kets1_j[i],kets2_derq4_j[i]) for i in range(16)]) \n",
    "#kets_2q_derq2_j = np.copy(cam_q2)\n",
    "\n",
    "#kets con derivada\n",
    "\n",
    "#d/dthe1 |psi>\n",
    "#d/dthe2 |psi>\n",
    "#d/dthe3 |psi>\n",
    "#d/dthe4 |psi>\n",
    "\n",
    "der_kets2q_j = np.array([kets_2q_derh1_j,kets_2q_derq1_j,kets_2q_derh2_j,kets_2q_derq2_j],dtype='complex64')\n"
   ]
  },
  {
   "cell_type": "code",
   "execution_count": 157,
   "id": "2ae12132-9b6f-4730-8a97-2291948920e0",
   "metadata": {},
   "outputs": [
    {
     "name": "stdout",
     "output_type": "stream",
     "text": [
      "[[0.5+0.j ]\n",
      " [0. +0.5j]\n",
      " [0. -0.5j]\n",
      " [0.5+0.j ]]\n"
     ]
    }
   ],
   "source": [
    "print(kets_2q_j[15])"
   ]
  },
  {
   "cell_type": "code",
   "execution_count": 158,
   "id": "1807ff83-5b39-40b5-a719-3cc59626cb41",
   "metadata": {},
   "outputs": [],
   "source": [
    "# se comprueba que da lo que ha puesto en el paper, el camino de q aqui en adelante es lo mismo de arriba"
   ]
  },
  {
   "cell_type": "code",
   "execution_count": 159,
   "id": "b27b19d5-1935-4fe9-bf6f-a635463cbf43",
   "metadata": {},
   "outputs": [],
   "source": [
    "#INCERTIDUMBRES "
   ]
  },
  {
   "cell_type": "code",
   "execution_count": null,
   "id": "c604f59e-dbe5-48d0-a65c-e6f7ecaf84b2",
   "metadata": {},
   "outputs": [],
   "source": []
  },
  {
   "cell_type": "code",
   "execution_count": 103,
   "id": "a84265bb-3815-496b-ab0e-96d337175188",
   "metadata": {},
   "outputs": [],
   "source": [
    "# fiuv matrix\n",
    "\n",
    "f_ivu = []\n",
    "for i in range(4):\n",
    "    f_vu = []\n",
    "    for v in range(16):        \n",
    "        for u in range(16):\n",
    "            sum_left = np.matmul(np.conjugate(der_kets2q_j[i][v]).T,np.matmul(M_m[u],kets_2q_j[v]))\n",
    "            sum_right = np.matmul(np.conjugate(kets_2q_j[v]).T,np.matmul(M_m[u],der_kets2q_j[i][v]))\n",
    "            sum_vu = sum_left + sum_right\n",
    "            f_vu.append(sum_vu[0])\n",
    "    chop(f_vu)\n",
    "    f_vu = np.array(f_vu).reshape(16,16)\n",
    "    f_ivu.append(f_vu)\n",
    "    \n",
    "f_ivu= np.array(f_ivu,dtype = 'complex64')"
   ]
  },
  {
   "cell_type": "code",
   "execution_count": 104,
   "id": "3915ae42-dae3-416a-b636-99177a73e7d6",
   "metadata": {},
   "outputs": [
    {
     "name": "stdout",
     "output_type": "stream",
     "text": [
      "(4, 16, 16)\n"
     ]
    }
   ],
   "source": [
    "print(f_ivu.shape)"
   ]
  },
  {
   "cell_type": "code",
   "execution_count": 105,
   "id": "8d6fbad0-9d8d-4083-8355-b49d92f5f802",
   "metadata": {},
   "outputs": [
    {
     "name": "stdout",
     "output_type": "stream",
     "text": [
      "(0.20694044+0j)\n"
     ]
    }
   ],
   "source": [
    "#lambda - 1 column vector (16 elements)\n",
    "\n",
    "Lamb = []\n",
    "for v in range(16):\n",
    "    com = 0\n",
    "    for i in range(4):\n",
    "        for e in range(16):\n",
    "            for l in range(16):\n",
    "                sum_f = f_ivu[i,v,e]*f_ivu[i,v,l]*Sv[e]*Sv[l]\n",
    "                com = com + sum_f\n",
    "    new_sumf = Sv[v]/Normal + com\n",
    "    Lamb.append(new_sumf)\n",
    "Lamb = np.array(Lamb,dtype='complex64')\n",
    "chop(Lamb)\n",
    "print(Lamb[13]) \n",
    "\n"
   ]
  },
  {
   "cell_type": "code",
   "execution_count": 106,
   "id": "35c39f83-a0a7-4247-b737-7217546995bf",
   "metadata": {},
   "outputs": [],
   "source": [
    "##Von Neummann Entropy Uncertanty"
   ]
  },
  {
   "cell_type": "code",
   "execution_count": 82,
   "id": "06a17c5b-d235-4495-92da-27ebd2a41335",
   "metadata": {},
   "outputs": [
    {
     "name": "stdout",
     "output_type": "stream",
     "text": [
      "[ 8.684805e-01+3.979943e-18j  1.315195e-01-6.327788e-20j  5.899933e-09+1.971772e-18j -2.796423e-10+2.917275e-18j]\n"
     ]
    }
   ],
   "source": [
    "print(np.linalg.eig(p_MLE)[0])"
   ]
  },
  {
   "cell_type": "code",
   "execution_count": 83,
   "id": "1f6b5da3-7a8e-4476-b6ab-832f8257b9a7",
   "metadata": {},
   "outputs": [
    {
     "name": "stdout",
     "output_type": "stream",
     "text": [
      "(0.5615908388502584+1.2674395327271637e-09j)\n"
     ]
    }
   ],
   "source": [
    "auto_p_MLE = np.linalg.eig(p_MLE)[0]\n",
    "ams = 0\n",
    "for a in range(4):\n",
    "    bob = auto_p_MLE[a]*np.log2(auto_p_MLE[a])\n",
    "    ams = ams + bob\n",
    "ams = -1.0*ams\n",
    "print(ams)"
   ]
  },
  {
   "cell_type": "code",
   "execution_count": 84,
   "id": "71bfe7c7-9fec-470a-b859-18805fa1cb70",
   "metadata": {},
   "outputs": [
    {
     "ename": "NameError",
     "evalue": "name 'kets_2q_j' is not defined",
     "output_type": "error",
     "traceback": [
      "\u001b[1;31m---------------------------------------------------------------------------\u001b[0m",
      "\u001b[1;31mNameError\u001b[0m                                 Traceback (most recent call last)",
      "\u001b[1;32m~\\AppData\\Local\\Temp/ipykernel_23232/110877743.py\u001b[0m in \u001b[0;36m<module>\u001b[1;34m\u001b[0m\n\u001b[0;32m      3\u001b[0m     \u001b[0mgold\u001b[0m \u001b[1;33m=\u001b[0m \u001b[1;36m0\u001b[0m\u001b[1;33m\u001b[0m\u001b[1;33m\u001b[0m\u001b[0m\n\u001b[0;32m      4\u001b[0m     \u001b[1;32mfor\u001b[0m \u001b[0ma\u001b[0m \u001b[1;32min\u001b[0m \u001b[0mrange\u001b[0m\u001b[1;33m(\u001b[0m\u001b[1;36m4\u001b[0m\u001b[1;33m)\u001b[0m\u001b[1;33m:\u001b[0m\u001b[1;33m\u001b[0m\u001b[1;33m\u001b[0m\u001b[0m\n\u001b[1;32m----> 5\u001b[1;33m         \u001b[0mphi_mul\u001b[0m \u001b[1;33m=\u001b[0m \u001b[0mnp\u001b[0m\u001b[1;33m.\u001b[0m\u001b[0mmatmul\u001b[0m\u001b[1;33m(\u001b[0m\u001b[0mnp\u001b[0m\u001b[1;33m.\u001b[0m\u001b[0mconjugate\u001b[0m\u001b[1;33m(\u001b[0m\u001b[0mkets_2q_j\u001b[0m\u001b[1;33m[\u001b[0m\u001b[0ma\u001b[0m\u001b[1;33m]\u001b[0m\u001b[1;33m)\u001b[0m\u001b[1;33m.\u001b[0m\u001b[0mT\u001b[0m\u001b[1;33m,\u001b[0m\u001b[0mnp\u001b[0m\u001b[1;33m.\u001b[0m\u001b[0mmatmul\u001b[0m\u001b[1;33m(\u001b[0m\u001b[0mM_m\u001b[0m\u001b[1;33m[\u001b[0m\u001b[0mv\u001b[0m\u001b[1;33m]\u001b[0m\u001b[1;33m,\u001b[0m\u001b[0mkets_2q_j\u001b[0m\u001b[1;33m[\u001b[0m\u001b[0ma\u001b[0m\u001b[1;33m]\u001b[0m\u001b[1;33m)\u001b[0m\u001b[1;33m)\u001b[0m\u001b[1;33m[\u001b[0m\u001b[1;36m0\u001b[0m\u001b[1;33m]\u001b[0m\u001b[1;33m*\u001b[0m\u001b[1;33m(\u001b[0m\u001b[1;33m(\u001b[0m\u001b[1;36m1\u001b[0m\u001b[1;33m+\u001b[0m\u001b[0mnp\u001b[0m\u001b[1;33m.\u001b[0m\u001b[0mlog\u001b[0m\u001b[1;33m(\u001b[0m\u001b[0mauto_p_MLE\u001b[0m\u001b[1;33m[\u001b[0m\u001b[0ma\u001b[0m\u001b[1;33m]\u001b[0m\u001b[1;33m)\u001b[0m\u001b[1;33m)\u001b[0m\u001b[1;33m/\u001b[0m\u001b[0mnp\u001b[0m\u001b[1;33m.\u001b[0m\u001b[0mlog\u001b[0m\u001b[1;33m(\u001b[0m\u001b[1;36m2\u001b[0m\u001b[1;33m)\u001b[0m\u001b[1;33m)\u001b[0m\u001b[1;33m\u001b[0m\u001b[1;33m\u001b[0m\u001b[0m\n\u001b[0m\u001b[0;32m      6\u001b[0m         \u001b[0mgold\u001b[0m \u001b[1;33m=\u001b[0m \u001b[0mgold\u001b[0m \u001b[1;33m+\u001b[0m \u001b[0mphi_mul\u001b[0m\u001b[1;33m\u001b[0m\u001b[1;33m\u001b[0m\u001b[0m\n\u001b[0;32m      7\u001b[0m     \u001b[0mplate\u001b[0m \u001b[1;33m=\u001b[0m \u001b[0mplate\u001b[0m \u001b[1;33m+\u001b[0m \u001b[1;33m(\u001b[0m\u001b[0mgold\u001b[0m\u001b[1;33m**\u001b[0m\u001b[1;36m2\u001b[0m\u001b[1;33m)\u001b[0m\u001b[1;33m*\u001b[0m\u001b[0mLamb\u001b[0m\u001b[1;33m[\u001b[0m\u001b[0mv\u001b[0m\u001b[1;33m]\u001b[0m\u001b[1;33m\u001b[0m\u001b[1;33m\u001b[0m\u001b[0m\n",
      "\u001b[1;31mNameError\u001b[0m: name 'kets_2q_j' is not defined"
     ]
    }
   ],
   "source": [
    "plate = 0\n",
    "for v in range(16):\n",
    "    gold = 0\n",
    "    for a in range(4):\n",
    "        phi_mul = np.matmul(np.conjugate(kets_2q_j[a]).T,np.matmul(M_m[v],kets_2q_j[a]))[0]*((1+np.log(auto_p_MLE[a]))/np.log(2))\n",
    "        gold = gold + phi_mul\n",
    "    plate = plate + (gold**2)*Lamb[v]\n",
    "print(np.sqrt(np.real(plate)))"
   ]
  },
  {
   "cell_type": "code",
   "execution_count": 85,
   "id": "5770ecca-be78-44c9-856d-f04e6595299d",
   "metadata": {},
   "outputs": [
    {
     "name": "stdout",
     "output_type": "stream",
     "text": [
      "1.0\n"
     ]
    }
   ],
   "source": [
    "print(np.log(np.e))"
   ]
  },
  {
   "cell_type": "code",
   "execution_count": 86,
   "id": "b84a8370-0fbe-43c4-adb9-28f019aec336",
   "metadata": {},
   "outputs": [
    {
     "name": "stdout",
     "output_type": "stream",
     "text": [
      "(0.3045923212176425-9.195148647262723e-18j)\n"
     ]
    }
   ],
   "source": [
    "#linear entropy\n",
    "\n",
    "ln=0\n",
    "for i in range(4):\n",
    "    ln = ln + auto_p_MLE[i]**2\n",
    "ln_sum = (4./3)*(1-ln)\n",
    "\n",
    "print(ln_sum)"
   ]
  },
  {
   "cell_type": "code",
   "execution_count": 87,
   "id": "d147f8b0-3bbd-437e-9b77-3df6619558ad",
   "metadata": {},
   "outputs": [
    {
     "ename": "NameError",
     "evalue": "name 'Lamb' is not defined",
     "output_type": "error",
     "traceback": [
      "\u001b[1;31m---------------------------------------------------------------------------\u001b[0m",
      "\u001b[1;31mNameError\u001b[0m                                 Traceback (most recent call last)",
      "\u001b[1;32m~\\AppData\\Local\\Temp/ipykernel_23232/1123769135.py\u001b[0m in \u001b[0;36m<module>\u001b[1;34m\u001b[0m\n\u001b[0;32m      5\u001b[0m         \u001b[0mp_mul\u001b[0m \u001b[1;33m=\u001b[0m \u001b[0mnp\u001b[0m\u001b[1;33m.\u001b[0m\u001b[0mtrace\u001b[0m\u001b[1;33m(\u001b[0m\u001b[0mnp\u001b[0m\u001b[1;33m.\u001b[0m\u001b[0mmatmul\u001b[0m\u001b[1;33m(\u001b[0m\u001b[0mM_m\u001b[0m\u001b[1;33m[\u001b[0m\u001b[0mu\u001b[0m\u001b[1;33m]\u001b[0m\u001b[1;33m,\u001b[0m\u001b[0mM_m\u001b[0m\u001b[1;33m[\u001b[0m\u001b[0mv\u001b[0m\u001b[1;33m]\u001b[0m\u001b[1;33m)\u001b[0m\u001b[1;33m)\u001b[0m\u001b[1;33m*\u001b[0m\u001b[0mSv\u001b[0m\u001b[1;33m[\u001b[0m\u001b[0mu\u001b[0m\u001b[1;33m]\u001b[0m\u001b[1;33m\u001b[0m\u001b[1;33m\u001b[0m\u001b[0m\n\u001b[0;32m      6\u001b[0m         \u001b[0mp_v\u001b[0m \u001b[1;33m=\u001b[0m \u001b[0mp_v\u001b[0m \u001b[1;33m+\u001b[0m \u001b[0mp_mul\u001b[0m\u001b[1;33m\u001b[0m\u001b[1;33m\u001b[0m\u001b[0m\n\u001b[1;32m----> 7\u001b[1;33m     \u001b[0mp_lambda\u001b[0m \u001b[1;33m=\u001b[0m \u001b[0mp_lambda\u001b[0m \u001b[1;33m+\u001b[0m \u001b[1;33m(\u001b[0m\u001b[1;33m(\u001b[0m\u001b[1;33m(\u001b[0m\u001b[1;36m8.\u001b[0m\u001b[1;33m/\u001b[0m\u001b[1;36m3\u001b[0m\u001b[1;33m)\u001b[0m\u001b[1;33m*\u001b[0m\u001b[0mp_v\u001b[0m\u001b[1;33m)\u001b[0m\u001b[1;33m**\u001b[0m\u001b[1;36m2\u001b[0m\u001b[1;33m)\u001b[0m\u001b[1;33m*\u001b[0m\u001b[0mLamb\u001b[0m\u001b[1;33m[\u001b[0m\u001b[0mv\u001b[0m\u001b[1;33m]\u001b[0m\u001b[1;33m\u001b[0m\u001b[1;33m\u001b[0m\u001b[0m\n\u001b[0m\u001b[0;32m      8\u001b[0m \u001b[0mprint\u001b[0m\u001b[1;33m(\u001b[0m\u001b[0mnp\u001b[0m\u001b[1;33m.\u001b[0m\u001b[0msqrt\u001b[0m\u001b[1;33m(\u001b[0m\u001b[0mnp\u001b[0m\u001b[1;33m.\u001b[0m\u001b[0mreal\u001b[0m\u001b[1;33m(\u001b[0m\u001b[0mp_lambda\u001b[0m\u001b[1;33m)\u001b[0m\u001b[1;33m)\u001b[0m\u001b[1;33m)\u001b[0m\u001b[1;33m\u001b[0m\u001b[1;33m\u001b[0m\u001b[0m\n",
      "\u001b[1;31mNameError\u001b[0m: name 'Lamb' is not defined"
     ]
    }
   ],
   "source": [
    "p_lambda=0\n",
    "for v in range(16):\n",
    "    p_v=0\n",
    "    for u in range(16):\n",
    "        p_mul = np.trace(np.matmul(M_m[u],M_m[v]))*Sv[u]\n",
    "        p_v = p_v + p_mul\n",
    "    p_lambda = p_lambda + (((8./3)*p_v)**2)*Lamb[v]\n",
    "print(np.sqrt(np.real(p_lambda)))"
   ]
  },
  {
   "cell_type": "code",
   "execution_count": 169,
   "id": "5dd5ffd9-d386-414e-8c07-4f25538c041a",
   "metadata": {},
   "outputs": [],
   "source": [
    "#Concurrence\n",
    "\n"
   ]
  },
  {
   "cell_type": "code",
   "execution_count": null,
   "id": "8c4fc5a5-fdb4-4552-b1cf-1f54c0821ef4",
   "metadata": {},
   "outputs": [],
   "source": [
    "# jmes kets through functions\n",
    "\n",
    "a_j = lambda h,q: (np.sin(2*h)+1.j*np.sin(2*h -2*q))/np.sqrt(2)\n",
    "b_j = lambda h,q: (np.cos(2*h)-1.j*np.cos(2*h -2*q))/np.sqrt(2)\n",
    "\n",
    "a_j_h = lambda h,q: (2*np.cos(2*h)+2.j*np.cos(2*h -2*q))/np.sqrt(2)\n",
    "b_j_h = lambda h,q: (-2*np.sin(2*h)+2.j*np.sin(2*h -2*q))/np.sqrt(2)\n",
    "\n",
    "a_j_q = lambda h,q: (-2.j*np.cos(2*h -2*q))/np.sqrt(2)\n",
    "b_j_q = lambda h,q: -(2.j*np.sin(2*h -2*q))/np.sqrt(2)\n"
   ]
  },
  {
   "cell_type": "code",
   "execution_count": null,
   "id": "73d58cc7-51f4-451b-9320-d785572381b2",
   "metadata": {},
   "outputs": [],
   "source": [
    "# 2 qubits system james\n",
    "\n",
    "#ket1 x ket2\n",
    "kets_2q_j=np.array([np.kron(kets1_j[i],kets2_j[i]) for i in range(16)])\n",
    "#derh1_ket1 x ket2\n",
    "kets_2q_derh1_j = np.array([np.kron(kets1_derh1_j[i],kets2_j[i]) for i in range(16)])  \n",
    "#derq1_ket1x ket2\n",
    "kets_2q_derq1_j = np.array([np.kron(kets1_derq2_j[i],kets2_j[i]) for i in range(16)])  \n",
    "#ket1 x derh2_ket2\n",
    "kets_2q_derh2_j = np.array([np.kron(kets1_j[i],kets2_derh3_j[i]) for i in range(16)])  \n",
    "#ket1 x derq2_ket2\n",
    "kets_2q_derq2_j = np.array([np.kron(kets1_j[i],kets2_derq4_j[i]) for i in range(16)])  \n",
    "\n",
    "#kets con derivada\n",
    "\n",
    "#d/dthe1 |psi>\n",
    "#d/dthe2 |psi>\n",
    "#d/dthe3 |psi>\n",
    "#d/dthe4 |psi>\n",
    "\n",
    "der_kets2q_j = np.array([kets_2q_derh1_j,kets_2q_derq1_j,kets_2q_derh2_j,kets_2q_derq2_j],dtype='complex64')\n"
   ]
  },
  {
   "cell_type": "code",
   "execution_count": null,
   "id": "17c97403-87a6-49d7-a5bf-a4862fc8c638",
   "metadata": {},
   "outputs": [],
   "source": [
    "ifss = 7\n",
    "some_f = np.array(a_j(hj1[ifss],qj1[ifss])*a_j_q(hj2[ifss],qj2[ifss])*np.kron(H,H) \n",
    "                  + a_j(hj1[ifss],qj1[ifss])*b_j_q(hj2[ifss],qj2[ifss])*np.kron(H,V) \n",
    "                  + b_j(hj1[ifss],qj1[ifss])*a_j_q(hj2[ifss],qj2[ifss])*np.kron(V,H) \n",
    "                  + b_j(hj1[ifss],qj1[ifss])*b_j_q(hj2[ifss],qj2[ifss])*np.kron(V,V), dtype='complex64')\n",
    "\n",
    "chop(some_f)\n",
    "yam = np.matmul(np.conjugate(np.kron(H,H)).T,some_f)\n",
    "yem = np.matmul(np.conjugate(np.kron(H,V)).T,some_f)\n",
    "yim = np.matmul(np.conjugate(np.kron(V,H)).T,some_f)\n",
    "yom = np.matmul(np.conjugate(np.kron(V,V)).T,some_f)\n",
    "\n",
    "ncount = 0\n",
    "if yam!= 0 and ncount==0:\n",
    "    some_f=some_f*np.conjugate(yam) \n",
    "    ncount+=1\n",
    "if yem!= 0 and ncount==0:\n",
    "    some_f=some_f*np.conjugate(yem)\n",
    "    ncount+=1\n",
    "if yim!= 0 and ncount==0:\n",
    "    some_f=some_f*np.conjugate(yim)\n",
    "    ncount+=1\n",
    "if yom!= 0 and ncount==0:\n",
    "    some_f=some_f*np.conjugate(yom)\n",
    "    ncount+=1\n",
    "\n",
    "jos = np.matmul(np.conjugate(some_f).T, some_f)[0]\n",
    "if jos!=0: some_f=some_f/np.sqrt(jos)\n",
    "    \n",
    "\n",
    "print(some_f)"
   ]
  },
  {
   "cell_type": "code",
   "execution_count": null,
   "id": "0487cc53-be58-4cdd-a9ba-f7593233aa5a",
   "metadata": {},
   "outputs": [],
   "source": [
    "print(kets_2q_derq2_j[7])"
   ]
  },
  {
   "cell_type": "code",
   "execution_count": null,
   "id": "3a23e8ed-6bc8-4540-a2ef-37accf55c5ce",
   "metadata": {},
   "outputs": [],
   "source": [
    "#cam_h1\n",
    "#cam_q1\n",
    "#cam_h2\n",
    "#cam_q2"
   ]
  },
  {
   "cell_type": "code",
   "execution_count": null,
   "id": "06e080b5-fb1d-4ae6-bc36-ed660eeb11f5",
   "metadata": {},
   "outputs": [],
   "source": [
    "cam_q2= []\n",
    "for ifss in range(16):\n",
    "    some_f = np.array(a_j(hj1[ifss],qj1[ifss])*a_j_q(hj2[ifss],qj2[ifss])*np.kron(H,H) \n",
    "                  + a_j(hj1[ifss],qj1[ifss])*b_j_q(hj2[ifss],qj2[ifss])*np.kron(H,V) \n",
    "                  + b_j(hj1[ifss],qj1[ifss])*a_j_q(hj2[ifss],qj2[ifss])*np.kron(V,H) \n",
    "                  + b_j(hj1[ifss],qj1[ifss])*b_j_q(hj2[ifss],qj2[ifss])*np.kron(V,V), dtype='complex64')\n",
    "    chop(some_f)\n",
    "    yam = np.matmul(np.conjugate(np.kron(H,H)).T,some_f)\n",
    "    yem = np.matmul(np.conjugate(np.kron(H,V)).T,some_f)\n",
    "    yim = np.matmul(np.conjugate(np.kron(V,H)).T,some_f)\n",
    "    yom = np.matmul(np.conjugate(np.kron(V,V)).T,some_f)\n",
    "    \n",
    "    ncount = 0\n",
    "    if yam!= 0 and ncount==0:\n",
    "        some_f=some_f*np.conjugate(yam)\n",
    "        ncount+=1\n",
    "    if yem!= 0 and ncount==0:\n",
    "        some_f=some_f*np.conjugate(yem)\n",
    "        ncount+=1\n",
    "    if yim!= 0 and ncount==0:\n",
    "        some_f=some_f*np.conjugate(yim)\n",
    "        ncount+=1\n",
    "    if yom!= 0 and ncount==0:\n",
    "        some_f=some_f*np.conjugate(yom)\n",
    "        ncount+=1\n",
    "    \n",
    "    jos = np.matmul(np.conjugate(some_f).T, some_f)[0]\n",
    "    if jos!=0: some_f=some_f/np.sqrt(jos)\n",
    "    \n",
    "    cam_q2.append(some_f)\n",
    "cam_q2 = np.array(cam_q2,dtype='complex64')"
   ]
  },
  {
   "cell_type": "code",
   "execution_count": null,
   "id": "2484af59-c748-4ba8-afe0-d3649eaf8531",
   "metadata": {},
   "outputs": [],
   "source": [
    "print(kets_2q_derh2_j[8])"
   ]
  },
  {
   "cell_type": "code",
   "execution_count": null,
   "id": "7fe1091a-529a-441f-981f-23d3e19552a8",
   "metadata": {},
   "outputs": [],
   "source": [
    "print(cam_h2[8])"
   ]
  },
  {
   "cell_type": "code",
   "execution_count": 218,
   "id": "28400060-9b46-4661-9240-116ca95cb954",
   "metadata": {},
   "outputs": [
    {
     "name": "stdout",
     "output_type": "stream",
     "text": [
      "[ 0.441951+0.j        0.089008-0.05348j  -0.095453+0.031717j  0.336629+0.106283j  0.089008+0.05348j   0.05496 +0.j       -0.028441-0.028916j  0.089845+0.076415j -0.095453-0.031717j\n",
      " -0.028441+0.028916j  0.07349 +0.j       -0.106369+0.028245j  0.336629-0.106283j  0.089845-0.076415j -0.106369-0.028245j  0.4296  +0.j      ]\n"
     ]
    }
   ],
   "source": [
    "# Entanglament of formaation\n",
    "\n",
    "# proyecciones de los espacios H1 Y H2 con bases M y N, respectivamente\n",
    "M_s = np.array([H,V])\n",
    "N_s = np.array([H,V])\n",
    "M_s_pro = []\n",
    "\n",
    "for i in range(2):\n",
    "    for j in range(2):\n",
    "        var_m= np.matmul(M_s[i],np.conjugate(M_s[j]).T)\n",
    "        M_s_pro.append(var_m)\n",
    "#Proyecciones de los espacios\n",
    "M_s_pro = np.array(M_s_pro)\n",
    "N_s_pro = np.copy(M_s_pro)\n",
    "\n",
    "MN_s_pro = []\n",
    "for i in range(4):\n",
    "    for j in range(4):\n",
    "        var_mn= np.matmul(np.kron(M_s_pro[i],M_s_pro[j]),np.conjugate(np.kron(M_s_pro[i],M_s_pro[j])).T)\n",
    "        MN_s_pro.append(var_mn)\n",
    "\n",
    "#Proyecciones del espacio H1 X H2\n",
    "MN_s_pro = np.array(MN_s_pro)  \n",
    "\n",
    "\n",
    "#kets de H1XH2\n",
    "MN_kets = []\n",
    "for i in range(2):\n",
    "    for j in range(2):\n",
    "        vark_mn= np.kron(M_s[i],M_s[j])\n",
    "        MN_kets.append(vark_mn)\n",
    "MN_kets = np.array(MN_kets)\n",
    "\n",
    "\n",
    "#Sandwiches\n",
    "num_ket= []\n",
    "for i in range(4):\n",
    "    for j in range(4):\n",
    "        num_rec = np.matmul(np.conjugate(MN_kets[i]).T,np.matmul(p_MLE,MN_kets[j]))[0,0]\n",
    "        num_ket.append(num_rec)\n",
    "\n",
    "num_ket = np.array(num_ket)\n",
    "print(num_ket)\n"
   ]
  },
  {
   "cell_type": "code",
   "execution_count": 222,
   "id": "9373997a-bf33-41d7-bc94-7557cd0f22a3",
   "metadata": {},
   "outputs": [
    {
     "name": "stdout",
     "output_type": "stream",
     "text": [
      "[0.441951+0.000000e+00j 0.05496 +0.000000e+00j 0.4296  +0.000000e+00j 0.07349 +0.000000e+00j 0.289437+0.000000e+00j 0.318695+0.000000e+00j 0.332124+0.000000e+00j 0.162267+0.000000e+00j\n",
      " 0.302178+0.000000e+00j 0.39261 +0.000000e+00j 0.334069-1.387779e-17j 0.337463+0.000000e+00j 0.145176+0.000000e+00j 0.2233  +0.000000e+00j 0.301935+0.000000e+00j 0.499219-1.387779e-17j]\n"
     ]
    }
   ],
   "source": [
    "print(Sv)"
   ]
  },
  {
   "cell_type": "code",
   "execution_count": null,
   "id": "488daa68-ce4c-4bf2-90c5-c85481183717",
   "metadata": {},
   "outputs": [],
   "source": [
    "[HHHH, HHHV, HHVH, HHVV, HV]"
   ]
  },
  {
   "cell_type": "code",
   "execution_count": 223,
   "id": "65455413-a1fb-48b8-ac97-8cb6f216bb10",
   "metadata": {},
   "outputs": [],
   "source": [
    "I = np.array([[1,0],[0,1]])"
   ]
  },
  {
   "cell_type": "code",
   "execution_count": 246,
   "id": "dd7e5c11-1869-46f7-a6ff-d6eaf9b7a6ee",
   "metadata": {},
   "outputs": [
    {
     "name": "stdout",
     "output_type": "stream",
     "text": [
      "[[0.+0.j 0.+0.j]\n",
      " [0.+0.j 0.+0.j]]\n",
      "(2, 2)\n",
      "(2, 2)\n"
     ]
    },
    {
     "ename": "IndexError",
     "evalue": "index 2 is out of bounds for axis 0 with size 2",
     "output_type": "error",
     "traceback": [
      "\u001b[1;31m---------------------------------------------------------------------------\u001b[0m",
      "\u001b[1;31mIndexError\u001b[0m                                Traceback (most recent call last)",
      "\u001b[1;32m~\\AppData\\Local\\Temp/ipykernel_21524/496933875.py\u001b[0m in \u001b[0;36m<module>\u001b[1;34m\u001b[0m\n\u001b[0;32m      2\u001b[0m \u001b[0mprint\u001b[0m\u001b[1;33m(\u001b[0m\u001b[0mele_sum\u001b[0m\u001b[1;33m)\u001b[0m\u001b[1;33m\u001b[0m\u001b[1;33m\u001b[0m\u001b[0m\n\u001b[0;32m      3\u001b[0m \u001b[1;32mfor\u001b[0m \u001b[0mi\u001b[0m \u001b[1;32min\u001b[0m \u001b[0mrange\u001b[0m\u001b[1;33m(\u001b[0m\u001b[1;36m4\u001b[0m\u001b[1;33m)\u001b[0m\u001b[1;33m:\u001b[0m\u001b[1;33m\u001b[0m\u001b[1;33m\u001b[0m\u001b[0m\n\u001b[1;32m----> 4\u001b[1;33m     \u001b[0melem_m\u001b[0m \u001b[1;33m=\u001b[0m \u001b[0mnp\u001b[0m\u001b[1;33m.\u001b[0m\u001b[0mmatmul\u001b[0m\u001b[1;33m(\u001b[0m\u001b[0mnp\u001b[0m\u001b[1;33m.\u001b[0m\u001b[0mkron\u001b[0m\u001b[1;33m(\u001b[0m\u001b[0mnp\u001b[0m\u001b[1;33m.\u001b[0m\u001b[0mconjugate\u001b[0m\u001b[1;33m(\u001b[0m\u001b[0mM_s\u001b[0m\u001b[1;33m[\u001b[0m\u001b[0mi\u001b[0m\u001b[1;33m]\u001b[0m\u001b[1;33m)\u001b[0m\u001b[1;33m.\u001b[0m\u001b[0mT\u001b[0m\u001b[1;33m,\u001b[0m\u001b[0mI\u001b[0m\u001b[1;33m)\u001b[0m\u001b[1;33m,\u001b[0m\u001b[0mnp\u001b[0m\u001b[1;33m.\u001b[0m\u001b[0mmatmul\u001b[0m\u001b[1;33m(\u001b[0m\u001b[0mp_MLE\u001b[0m\u001b[1;33m,\u001b[0m\u001b[0mnp\u001b[0m\u001b[1;33m.\u001b[0m\u001b[0mkron\u001b[0m\u001b[1;33m(\u001b[0m\u001b[0mM_s\u001b[0m\u001b[1;33m[\u001b[0m\u001b[0mi\u001b[0m\u001b[1;33m]\u001b[0m\u001b[1;33m,\u001b[0m\u001b[0mI\u001b[0m\u001b[1;33m)\u001b[0m\u001b[1;33m)\u001b[0m\u001b[1;33m)\u001b[0m\u001b[1;33m\u001b[0m\u001b[1;33m\u001b[0m\u001b[0m\n\u001b[0m\u001b[0;32m      5\u001b[0m     \u001b[0mprint\u001b[0m\u001b[1;33m(\u001b[0m\u001b[0melem_m\u001b[0m\u001b[1;33m.\u001b[0m\u001b[0mshape\u001b[0m\u001b[1;33m)\u001b[0m\u001b[1;33m\u001b[0m\u001b[1;33m\u001b[0m\u001b[0m\n\u001b[0;32m      6\u001b[0m     \u001b[0mele_sum\u001b[0m \u001b[1;33m=\u001b[0m \u001b[0mele_sum\u001b[0m \u001b[1;33m+\u001b[0m \u001b[0melem_m\u001b[0m\u001b[1;33m\u001b[0m\u001b[1;33m\u001b[0m\u001b[0m\n",
      "\u001b[1;31mIndexError\u001b[0m: index 2 is out of bounds for axis 0 with size 2"
     ]
    }
   ],
   "source": [
    "\n",
    "ele_sum = np.zeros((2,2), dtype='complex64')\n",
    "print(ele_sum)\n",
    "for i in range(4):\n",
    "    elem_m = np.matmul(np.kron(np.conjugate(M_s[i]).T,I),np.matmul(p_MLE,np.kron(M_s[i],I)))\n",
    "    print(elem_m.shape)\n",
    "    ele_sum = ele_sum + elem_m\n",
    "print(ele_sum)\n",
    "                       \n"
   ]
  },
  {
   "cell_type": "code",
   "execution_count": 247,
   "id": "513edf62-f1d0-4fdf-b68d-9d71ecb46c36",
   "metadata": {},
   "outputs": [
    {
     "name": "stdout",
     "output_type": "stream",
     "text": [
      "[[ 0.51544 +0.j       -0.017361-0.025235j]\n",
      " [-0.017361+0.025235j  0.48456 +0.j      ]]\n"
     ]
    }
   ],
   "source": [
    "print(ele_sum)"
   ]
  },
  {
   "cell_type": "code",
   "execution_count": 248,
   "id": "51b0b745-4085-493e-907b-1f918d0263b1",
   "metadata": {},
   "outputs": [],
   "source": [
    "aut_ele = np.linalg.eig(ele_sum)[0]"
   ]
  },
  {
   "cell_type": "code",
   "execution_count": 250,
   "id": "86f93ea5-9b48-41bc-b7bb-7a4a2cd5fe77",
   "metadata": {},
   "outputs": [
    {
     "name": "stdout",
     "output_type": "stream",
     "text": [
      "(0.9966024081197404+4.1719447718509835e-19j)\n"
     ]
    }
   ],
   "source": [
    "eee = 0\n",
    "for i in range(2):\n",
    "    loops =aut_ele[i]*np.log2(aut_ele[i])\n",
    "    eee = eee + loops\n",
    "print(-1*eee)"
   ]
  },
  {
   "cell_type": "code",
   "execution_count": null,
   "id": "2042ded9-027d-4395-b9db-341de152a7a0",
   "metadata": {},
   "outputs": [],
   "source": []
  }
 ],
 "metadata": {
  "kernelspec": {
   "display_name": "Python 3 (ipykernel)",
   "language": "python",
   "name": "python3"
  },
  "language_info": {
   "codemirror_mode": {
    "name": "ipython",
    "version": 3
   },
   "file_extension": ".py",
   "mimetype": "text/x-python",
   "name": "python",
   "nbconvert_exporter": "python",
   "pygments_lexer": "ipython3",
   "version": "3.9.7"
  }
 },
 "nbformat": 4,
 "nbformat_minor": 5
}
